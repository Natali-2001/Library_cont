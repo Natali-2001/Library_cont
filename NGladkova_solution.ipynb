{
 "cells": [
  {
   "cell_type": "markdown",
   "metadata": {},
   "source": [
    "# Курсовой проект\n",
    "\n",
    "### Задача\n",
    "\n",
    "Требуется, на основании имеющихся данных о клиентах банка, построить модель, используя обучающий датасет, для прогнозирования невыполнения долговых обязательств по текущему кредиту. Выполнить прогноз для примеров из тестового датасета.\n",
    "\n",
    "#### Наименование файлов с данными\n",
    "\n",
    "course_project_train.csv - обучающий датасет\n",
    "course_project_test.csv - тестовый датасет\n",
    "\n",
    "#### Целевая переменная\n",
    "\n",
    "Credit Default - факт невыполнения кредитных обязательств\n",
    "\n",
    "#### Метрика качества\n",
    "\n",
    "F1-score (sklearn.metrics.f1_score)\n",
    "\n",
    "#### Требования к решению\n",
    "\n",
    "*Целевая метрика*\n",
    "* F1 > 0.5\n",
    "* Метрика оценивается по качеству прогноза для главного класса (1 - просрочка по кредиту)"
   ]
  },
  {
   "cell_type": "markdown",
   "metadata": {},
   "source": [
    "### Обзор данных"
   ]
  },
  {
   "cell_type": "markdown",
   "metadata": {},
   "source": [
    "**Описание датасета**\n",
    "\n",
    "* **Home Ownership** - домовладение\n",
    "* **Annual Income** - годовой доход\n",
    "* **Years in current job** - количество лет на текущем месте работы\n",
    "* **Tax Liens** - налоговые обременения\n",
    "* **Number of Open Accounts** - количество открытых счетов\n",
    "* **Years of Credit History** - количество лет кредитной истории\n",
    "* **Maximum Open Credit** - наибольший открытый кредит\n",
    "* **Number of Credit Problems** - количество проблем с кредитом\n",
    "* **Months since last delinquent** - количество месяцев с последней просрочки платежа\n",
    "* **Bankruptcies** - банкротства\n",
    "* **Purpose** - цель кредита\n",
    "* **Term** - срок кредита\n",
    "* **Current Loan Amount** - текущая сумма кредита\n",
    "* **Current Credit Balance** - текущий кредитный баланс\n",
    "* **Monthly Debt** - ежемесячный долг\n",
    "* **Credit Default** - факт невыполнения кредитных обязательств (0 - погашен вовремя, 1 - просрочка)"
   ]
  },
  {
   "cell_type": "markdown",
   "metadata": {},
   "source": [
    "### Подключение библиотек и скриптов"
   ]
  },
  {
   "cell_type": "code",
   "execution_count": 1,
   "metadata": {},
   "outputs": [],
   "source": [
    "import numpy as np\n",
    "import pandas as pd\n",
    "import pickle\n",
    "import random\n",
    "\n",
    "from scipy.stats import shapiro\n",
    "from scipy.stats import probplot\n",
    "from scipy.stats import ttest_ind, mannwhitneyu\n",
    "from scipy.stats import chi2_contingency\n",
    "from statsmodels.stats.weightstats import zconfint\n",
    "\n",
    "import seaborn as sns\n",
    "from matplotlib import pyplot as plt\n",
    "%matplotlib inline"
   ]
  },
  {
   "cell_type": "code",
   "execution_count": 2,
   "metadata": {},
   "outputs": [],
   "source": [
    "import warnings\n",
    "warnings.simplefilter('ignore')"
   ]
  },
  {
   "cell_type": "markdown",
   "metadata": {},
   "source": [
    "### Пути к директориям и файлам"
   ]
  },
  {
   "cell_type": "code",
   "execution_count": 3,
   "metadata": {},
   "outputs": [],
   "source": [
    "TRAIN_DATASET_PATH = './course_project_train.csv'\n",
    "TEST_DATASET_PATH = './course_project_test.csv'"
   ]
  },
  {
   "cell_type": "code",
   "execution_count": 4,
   "metadata": {},
   "outputs": [],
   "source": [
    "train = pd.read_csv(TRAIN_DATASET_PATH)\n",
    "test = pd.read_csv(TEST_DATASET_PATH)"
   ]
  },
  {
   "cell_type": "markdown",
   "metadata": {},
   "source": [
    "## 1. Посмотрим данные \n",
    "#### train"
   ]
  },
  {
   "cell_type": "code",
   "execution_count": 5,
   "metadata": {},
   "outputs": [
    {
     "data": {
      "text/plain": [
       "(7500, 17)"
      ]
     },
     "execution_count": 5,
     "metadata": {},
     "output_type": "execute_result"
    }
   ],
   "source": [
    "train.shape"
   ]
  },
  {
   "cell_type": "code",
   "execution_count": 6,
   "metadata": {},
   "outputs": [
    {
     "name": "stdout",
     "output_type": "stream",
     "text": [
      "<class 'pandas.core.frame.DataFrame'>\n",
      "RangeIndex: 7500 entries, 0 to 7499\n",
      "Data columns (total 17 columns):\n",
      " #   Column                        Non-Null Count  Dtype  \n",
      "---  ------                        --------------  -----  \n",
      " 0   Home Ownership                7500 non-null   object \n",
      " 1   Annual Income                 5943 non-null   float64\n",
      " 2   Years in current job          7129 non-null   object \n",
      " 3   Tax Liens                     7500 non-null   float64\n",
      " 4   Number of Open Accounts       7500 non-null   float64\n",
      " 5   Years of Credit History       7500 non-null   float64\n",
      " 6   Maximum Open Credit           7500 non-null   float64\n",
      " 7   Number of Credit Problems     7500 non-null   float64\n",
      " 8   Months since last delinquent  3419 non-null   float64\n",
      " 9   Bankruptcies                  7486 non-null   float64\n",
      " 10  Purpose                       7500 non-null   object \n",
      " 11  Term                          7500 non-null   object \n",
      " 12  Current Loan Amount           7500 non-null   float64\n",
      " 13  Current Credit Balance        7500 non-null   float64\n",
      " 14  Monthly Debt                  7500 non-null   float64\n",
      " 15  Credit Score                  5943 non-null   float64\n",
      " 16  Credit Default                7500 non-null   int64  \n",
      "dtypes: float64(12), int64(1), object(4)\n",
      "memory usage: 2.7 MB\n",
      "None\n"
     ]
    },
    {
     "data": {
      "text/html": [
       "<div>\n",
       "<style scoped>\n",
       "    .dataframe tbody tr th:only-of-type {\n",
       "        vertical-align: middle;\n",
       "    }\n",
       "\n",
       "    .dataframe tbody tr th {\n",
       "        vertical-align: top;\n",
       "    }\n",
       "\n",
       "    .dataframe thead th {\n",
       "        text-align: right;\n",
       "    }\n",
       "</style>\n",
       "<table border=\"1\" class=\"dataframe\">\n",
       "  <thead>\n",
       "    <tr style=\"text-align: right;\">\n",
       "      <th></th>\n",
       "      <th>Home Ownership</th>\n",
       "      <th>Annual Income</th>\n",
       "      <th>Years in current job</th>\n",
       "      <th>Tax Liens</th>\n",
       "      <th>Number of Open Accounts</th>\n",
       "      <th>Years of Credit History</th>\n",
       "      <th>Maximum Open Credit</th>\n",
       "      <th>Number of Credit Problems</th>\n",
       "      <th>Months since last delinquent</th>\n",
       "      <th>Bankruptcies</th>\n",
       "      <th>Purpose</th>\n",
       "      <th>Term</th>\n",
       "      <th>Current Loan Amount</th>\n",
       "      <th>Current Credit Balance</th>\n",
       "      <th>Monthly Debt</th>\n",
       "      <th>Credit Score</th>\n",
       "      <th>Credit Default</th>\n",
       "    </tr>\n",
       "  </thead>\n",
       "  <tbody>\n",
       "    <tr>\n",
       "      <th>0</th>\n",
       "      <td>Own Home</td>\n",
       "      <td>482087.0</td>\n",
       "      <td>NaN</td>\n",
       "      <td>0.0</td>\n",
       "      <td>11.0</td>\n",
       "      <td>26.3</td>\n",
       "      <td>685960.0</td>\n",
       "      <td>1.0</td>\n",
       "      <td>NaN</td>\n",
       "      <td>1.0</td>\n",
       "      <td>debt consolidation</td>\n",
       "      <td>Short Term</td>\n",
       "      <td>99999999.0</td>\n",
       "      <td>47386.0</td>\n",
       "      <td>7914.0</td>\n",
       "      <td>749.0</td>\n",
       "      <td>0</td>\n",
       "    </tr>\n",
       "    <tr>\n",
       "      <th>1</th>\n",
       "      <td>Own Home</td>\n",
       "      <td>1025487.0</td>\n",
       "      <td>10+ years</td>\n",
       "      <td>0.0</td>\n",
       "      <td>15.0</td>\n",
       "      <td>15.3</td>\n",
       "      <td>1181730.0</td>\n",
       "      <td>0.0</td>\n",
       "      <td>NaN</td>\n",
       "      <td>0.0</td>\n",
       "      <td>debt consolidation</td>\n",
       "      <td>Long Term</td>\n",
       "      <td>264968.0</td>\n",
       "      <td>394972.0</td>\n",
       "      <td>18373.0</td>\n",
       "      <td>737.0</td>\n",
       "      <td>1</td>\n",
       "    </tr>\n",
       "    <tr>\n",
       "      <th>2</th>\n",
       "      <td>Home Mortgage</td>\n",
       "      <td>751412.0</td>\n",
       "      <td>8 years</td>\n",
       "      <td>0.0</td>\n",
       "      <td>11.0</td>\n",
       "      <td>35.0</td>\n",
       "      <td>1182434.0</td>\n",
       "      <td>0.0</td>\n",
       "      <td>NaN</td>\n",
       "      <td>0.0</td>\n",
       "      <td>debt consolidation</td>\n",
       "      <td>Short Term</td>\n",
       "      <td>99999999.0</td>\n",
       "      <td>308389.0</td>\n",
       "      <td>13651.0</td>\n",
       "      <td>742.0</td>\n",
       "      <td>0</td>\n",
       "    </tr>\n",
       "    <tr>\n",
       "      <th>3</th>\n",
       "      <td>Own Home</td>\n",
       "      <td>805068.0</td>\n",
       "      <td>6 years</td>\n",
       "      <td>0.0</td>\n",
       "      <td>8.0</td>\n",
       "      <td>22.5</td>\n",
       "      <td>147400.0</td>\n",
       "      <td>1.0</td>\n",
       "      <td>NaN</td>\n",
       "      <td>1.0</td>\n",
       "      <td>debt consolidation</td>\n",
       "      <td>Short Term</td>\n",
       "      <td>121396.0</td>\n",
       "      <td>95855.0</td>\n",
       "      <td>11338.0</td>\n",
       "      <td>694.0</td>\n",
       "      <td>0</td>\n",
       "    </tr>\n",
       "    <tr>\n",
       "      <th>4</th>\n",
       "      <td>Rent</td>\n",
       "      <td>776264.0</td>\n",
       "      <td>8 years</td>\n",
       "      <td>0.0</td>\n",
       "      <td>13.0</td>\n",
       "      <td>13.6</td>\n",
       "      <td>385836.0</td>\n",
       "      <td>1.0</td>\n",
       "      <td>NaN</td>\n",
       "      <td>0.0</td>\n",
       "      <td>debt consolidation</td>\n",
       "      <td>Short Term</td>\n",
       "      <td>125840.0</td>\n",
       "      <td>93309.0</td>\n",
       "      <td>7180.0</td>\n",
       "      <td>719.0</td>\n",
       "      <td>0</td>\n",
       "    </tr>\n",
       "  </tbody>\n",
       "</table>\n",
       "</div>"
      ],
      "text/plain": [
       "  Home Ownership  Annual Income Years in current job  Tax Liens  \\\n",
       "0       Own Home       482087.0                  NaN        0.0   \n",
       "1       Own Home      1025487.0            10+ years        0.0   \n",
       "2  Home Mortgage       751412.0              8 years        0.0   \n",
       "3       Own Home       805068.0              6 years        0.0   \n",
       "4           Rent       776264.0              8 years        0.0   \n",
       "\n",
       "   Number of Open Accounts  Years of Credit History  Maximum Open Credit  \\\n",
       "0                     11.0                     26.3             685960.0   \n",
       "1                     15.0                     15.3            1181730.0   \n",
       "2                     11.0                     35.0            1182434.0   \n",
       "3                      8.0                     22.5             147400.0   \n",
       "4                     13.0                     13.6             385836.0   \n",
       "\n",
       "   Number of Credit Problems  Months since last delinquent  Bankruptcies  \\\n",
       "0                        1.0                           NaN           1.0   \n",
       "1                        0.0                           NaN           0.0   \n",
       "2                        0.0                           NaN           0.0   \n",
       "3                        1.0                           NaN           1.0   \n",
       "4                        1.0                           NaN           0.0   \n",
       "\n",
       "              Purpose        Term  Current Loan Amount  \\\n",
       "0  debt consolidation  Short Term           99999999.0   \n",
       "1  debt consolidation   Long Term             264968.0   \n",
       "2  debt consolidation  Short Term           99999999.0   \n",
       "3  debt consolidation  Short Term             121396.0   \n",
       "4  debt consolidation  Short Term             125840.0   \n",
       "\n",
       "   Current Credit Balance  Monthly Debt  Credit Score  Credit Default  \n",
       "0                 47386.0        7914.0         749.0               0  \n",
       "1                394972.0       18373.0         737.0               1  \n",
       "2                308389.0       13651.0         742.0               0  \n",
       "3                 95855.0       11338.0         694.0               0  \n",
       "4                 93309.0        7180.0         719.0               0  "
      ]
     },
     "execution_count": 6,
     "metadata": {},
     "output_type": "execute_result"
    }
   ],
   "source": [
    "print(train.info(memory_usage='deep'))\n",
    "train.head()"
   ]
  },
  {
   "cell_type": "markdown",
   "metadata": {},
   "source": [
    "####  test"
   ]
  },
  {
   "cell_type": "code",
   "execution_count": 7,
   "metadata": {},
   "outputs": [
    {
     "data": {
      "text/plain": [
       "(2500, 16)"
      ]
     },
     "execution_count": 7,
     "metadata": {},
     "output_type": "execute_result"
    }
   ],
   "source": [
    "test.shape"
   ]
  },
  {
   "cell_type": "code",
   "execution_count": 8,
   "metadata": {},
   "outputs": [
    {
     "name": "stdout",
     "output_type": "stream",
     "text": [
      "<class 'pandas.core.frame.DataFrame'>\n",
      "RangeIndex: 2500 entries, 0 to 2499\n",
      "Data columns (total 16 columns):\n",
      " #   Column                        Non-Null Count  Dtype  \n",
      "---  ------                        --------------  -----  \n",
      " 0   Home Ownership                2500 non-null   object \n",
      " 1   Annual Income                 1987 non-null   float64\n",
      " 2   Years in current job          2414 non-null   object \n",
      " 3   Tax Liens                     2500 non-null   float64\n",
      " 4   Number of Open Accounts       2500 non-null   float64\n",
      " 5   Years of Credit History       2500 non-null   float64\n",
      " 6   Maximum Open Credit           2500 non-null   float64\n",
      " 7   Number of Credit Problems     2500 non-null   float64\n",
      " 8   Months since last delinquent  1142 non-null   float64\n",
      " 9   Bankruptcies                  2497 non-null   float64\n",
      " 10  Purpose                       2500 non-null   object \n",
      " 11  Term                          2500 non-null   object \n",
      " 12  Current Loan Amount           2500 non-null   float64\n",
      " 13  Current Credit Balance        2500 non-null   float64\n",
      " 14  Monthly Debt                  2500 non-null   float64\n",
      " 15  Credit Score                  1987 non-null   float64\n",
      "dtypes: float64(12), object(4)\n",
      "memory usage: 892.3 KB\n",
      "None\n"
     ]
    },
    {
     "data": {
      "text/html": [
       "<div>\n",
       "<style scoped>\n",
       "    .dataframe tbody tr th:only-of-type {\n",
       "        vertical-align: middle;\n",
       "    }\n",
       "\n",
       "    .dataframe tbody tr th {\n",
       "        vertical-align: top;\n",
       "    }\n",
       "\n",
       "    .dataframe thead th {\n",
       "        text-align: right;\n",
       "    }\n",
       "</style>\n",
       "<table border=\"1\" class=\"dataframe\">\n",
       "  <thead>\n",
       "    <tr style=\"text-align: right;\">\n",
       "      <th></th>\n",
       "      <th>Home Ownership</th>\n",
       "      <th>Annual Income</th>\n",
       "      <th>Years in current job</th>\n",
       "      <th>Tax Liens</th>\n",
       "      <th>Number of Open Accounts</th>\n",
       "      <th>Years of Credit History</th>\n",
       "      <th>Maximum Open Credit</th>\n",
       "      <th>Number of Credit Problems</th>\n",
       "      <th>Months since last delinquent</th>\n",
       "      <th>Bankruptcies</th>\n",
       "      <th>Purpose</th>\n",
       "      <th>Term</th>\n",
       "      <th>Current Loan Amount</th>\n",
       "      <th>Current Credit Balance</th>\n",
       "      <th>Monthly Debt</th>\n",
       "      <th>Credit Score</th>\n",
       "    </tr>\n",
       "  </thead>\n",
       "  <tbody>\n",
       "    <tr>\n",
       "      <th>0</th>\n",
       "      <td>Rent</td>\n",
       "      <td>NaN</td>\n",
       "      <td>4 years</td>\n",
       "      <td>0.0</td>\n",
       "      <td>9.0</td>\n",
       "      <td>12.5</td>\n",
       "      <td>220968.0</td>\n",
       "      <td>0.0</td>\n",
       "      <td>70.0</td>\n",
       "      <td>0.0</td>\n",
       "      <td>debt consolidation</td>\n",
       "      <td>Short Term</td>\n",
       "      <td>162470.0</td>\n",
       "      <td>105906.0</td>\n",
       "      <td>6813.0</td>\n",
       "      <td>NaN</td>\n",
       "    </tr>\n",
       "    <tr>\n",
       "      <th>1</th>\n",
       "      <td>Rent</td>\n",
       "      <td>231838.0</td>\n",
       "      <td>1 year</td>\n",
       "      <td>0.0</td>\n",
       "      <td>6.0</td>\n",
       "      <td>32.7</td>\n",
       "      <td>55946.0</td>\n",
       "      <td>0.0</td>\n",
       "      <td>8.0</td>\n",
       "      <td>0.0</td>\n",
       "      <td>educational expenses</td>\n",
       "      <td>Short Term</td>\n",
       "      <td>78298.0</td>\n",
       "      <td>46037.0</td>\n",
       "      <td>2318.0</td>\n",
       "      <td>699.0</td>\n",
       "    </tr>\n",
       "    <tr>\n",
       "      <th>2</th>\n",
       "      <td>Home Mortgage</td>\n",
       "      <td>1152540.0</td>\n",
       "      <td>3 years</td>\n",
       "      <td>0.0</td>\n",
       "      <td>10.0</td>\n",
       "      <td>13.7</td>\n",
       "      <td>204600.0</td>\n",
       "      <td>0.0</td>\n",
       "      <td>NaN</td>\n",
       "      <td>0.0</td>\n",
       "      <td>debt consolidation</td>\n",
       "      <td>Short Term</td>\n",
       "      <td>200178.0</td>\n",
       "      <td>146490.0</td>\n",
       "      <td>18729.0</td>\n",
       "      <td>7260.0</td>\n",
       "    </tr>\n",
       "    <tr>\n",
       "      <th>3</th>\n",
       "      <td>Home Mortgage</td>\n",
       "      <td>1220313.0</td>\n",
       "      <td>10+ years</td>\n",
       "      <td>0.0</td>\n",
       "      <td>16.0</td>\n",
       "      <td>17.0</td>\n",
       "      <td>456302.0</td>\n",
       "      <td>0.0</td>\n",
       "      <td>70.0</td>\n",
       "      <td>0.0</td>\n",
       "      <td>debt consolidation</td>\n",
       "      <td>Short Term</td>\n",
       "      <td>217382.0</td>\n",
       "      <td>213199.0</td>\n",
       "      <td>27559.0</td>\n",
       "      <td>739.0</td>\n",
       "    </tr>\n",
       "    <tr>\n",
       "      <th>4</th>\n",
       "      <td>Home Mortgage</td>\n",
       "      <td>2340952.0</td>\n",
       "      <td>6 years</td>\n",
       "      <td>0.0</td>\n",
       "      <td>11.0</td>\n",
       "      <td>23.6</td>\n",
       "      <td>1207272.0</td>\n",
       "      <td>0.0</td>\n",
       "      <td>NaN</td>\n",
       "      <td>0.0</td>\n",
       "      <td>debt consolidation</td>\n",
       "      <td>Long Term</td>\n",
       "      <td>777634.0</td>\n",
       "      <td>425391.0</td>\n",
       "      <td>42605.0</td>\n",
       "      <td>706.0</td>\n",
       "    </tr>\n",
       "  </tbody>\n",
       "</table>\n",
       "</div>"
      ],
      "text/plain": [
       "  Home Ownership  Annual Income Years in current job  Tax Liens  \\\n",
       "0           Rent            NaN              4 years        0.0   \n",
       "1           Rent       231838.0               1 year        0.0   \n",
       "2  Home Mortgage      1152540.0              3 years        0.0   \n",
       "3  Home Mortgage      1220313.0            10+ years        0.0   \n",
       "4  Home Mortgage      2340952.0              6 years        0.0   \n",
       "\n",
       "   Number of Open Accounts  Years of Credit History  Maximum Open Credit  \\\n",
       "0                      9.0                     12.5             220968.0   \n",
       "1                      6.0                     32.7              55946.0   \n",
       "2                     10.0                     13.7             204600.0   \n",
       "3                     16.0                     17.0             456302.0   \n",
       "4                     11.0                     23.6            1207272.0   \n",
       "\n",
       "   Number of Credit Problems  Months since last delinquent  Bankruptcies  \\\n",
       "0                        0.0                          70.0           0.0   \n",
       "1                        0.0                           8.0           0.0   \n",
       "2                        0.0                           NaN           0.0   \n",
       "3                        0.0                          70.0           0.0   \n",
       "4                        0.0                           NaN           0.0   \n",
       "\n",
       "                Purpose        Term  Current Loan Amount  \\\n",
       "0    debt consolidation  Short Term             162470.0   \n",
       "1  educational expenses  Short Term              78298.0   \n",
       "2    debt consolidation  Short Term             200178.0   \n",
       "3    debt consolidation  Short Term             217382.0   \n",
       "4    debt consolidation   Long Term             777634.0   \n",
       "\n",
       "   Current Credit Balance  Monthly Debt  Credit Score  \n",
       "0                105906.0        6813.0           NaN  \n",
       "1                 46037.0        2318.0         699.0  \n",
       "2                146490.0       18729.0        7260.0  \n",
       "3                213199.0       27559.0         739.0  \n",
       "4                425391.0       42605.0         706.0  "
      ]
     },
     "execution_count": 8,
     "metadata": {},
     "output_type": "execute_result"
    }
   ],
   "source": [
    "print(test.info(memory_usage='deep'))\n",
    "test.head()"
   ]
  },
  {
   "cell_type": "markdown",
   "metadata": {},
   "source": [
    "**Анализ целевой переменной**"
   ]
  },
  {
   "cell_type": "code",
   "execution_count": 9,
   "metadata": {},
   "outputs": [
    {
     "data": {
      "text/plain": [
       "0    5387\n",
       "1    2113\n",
       "Name: Credit Default, dtype: int64"
      ]
     },
     "execution_count": 9,
     "metadata": {},
     "output_type": "execute_result"
    }
   ],
   "source": [
    "train['Credit Default'].value_counts()"
   ]
  },
  {
   "cell_type": "code",
   "execution_count": 10,
   "metadata": {},
   "outputs": [
    {
     "data": {
      "text/plain": [
       "2.549455750118315"
      ]
     },
     "execution_count": 10,
     "metadata": {},
     "output_type": "execute_result"
    }
   ],
   "source": [
    "train['Credit Default'].value_counts()[0] / train['Credit Default'].value_counts()[1]"
   ]
  },
  {
   "cell_type": "code",
   "execution_count": 11,
   "metadata": {},
   "outputs": [
    {
     "data": {
      "image/png": "[encoded data removed]",
      "text/plain": [
       "<Figure size 576x360 with 1 Axes>"
      ]
     },
     "metadata": {
      "needs_background": "light"
     },
     "output_type": "display_data"
    }
   ],
   "source": [
    "plt.figure(figsize=(8, 5))\n",
    "\n",
    "sns.countplot(x = 'Credit Default', data = train)\n",
    "\n",
    "plt.title('Target variable distribution')\n",
    "plt.show()"
   ]
  },
  {
   "cell_type": "markdown",
   "metadata": {},
   "source": [
    "**корреляция с базовыми признаками**"
   ]
  },
  {
   "cell_type": "code",
   "execution_count": 12,
   "metadata": {},
   "outputs": [
    {
     "data": {
      "image/png": "[encoded data removed]",
      "text/plain": [
       "<Figure size 1440x432 with 1 Axes>"
      ]
     },
     "metadata": {
      "needs_background": "light"
     },
     "output_type": "display_data"
    }
   ],
   "source": [
    "TARGET_NAME = 'Credit Default'\n",
    "BASE_FEATURE_NAMES = train.columns.drop(TARGET_NAME).tolist()\n",
    "\n",
    "\n",
    "corr_with_target = train[BASE_FEATURE_NAMES + [TARGET_NAME]].corr().iloc[:-1, -1].sort_values(ascending=False)\n",
    "\n",
    "plt.figure(figsize=(20, 6))\n",
    "\n",
    "sns.barplot(x=corr_with_target.values, y=corr_with_target.index)\n",
    "\n",
    "plt.title('Correlation with target variable')\n",
    "plt.show()\n"
   ]
  },
  {
   "cell_type": "markdown",
   "metadata": {},
   "source": [
    "***Анализ признаков***"
   ]
  },
  {
   "cell_type": "code",
   "execution_count": 13,
   "metadata": {},
   "outputs": [
    {
     "data": {
      "text/plain": [
       "Months since last delinquent    4081\n",
       "Annual Income                   1557\n",
       "Credit Score                    1557\n",
       "Years in current job             371\n",
       "Bankruptcies                      14\n",
       "Maximum Open Credit                0\n",
       "Tax Liens                          0\n",
       "Number of Open Accounts            0\n",
       "Years of Credit History            0\n",
       "Credit Default                     0\n",
       "Number of Credit Problems          0\n",
       "Purpose                            0\n",
       "Term                               0\n",
       "Current Loan Amount                0\n",
       "Current Credit Balance             0\n",
       "Monthly Debt                       0\n",
       "Home Ownership                     0\n",
       "dtype: int64"
      ]
     },
     "execution_count": 13,
     "metadata": {},
     "output_type": "execute_result"
    }
   ],
   "source": [
    "# Подсчитаем пропуски\n",
    "(len(train) - train.count()).sort_values(ascending = False)"
   ]
  },
  {
   "cell_type": "code",
   "execution_count": 14,
   "metadata": {},
   "outputs": [
    {
     "data": {
      "text/plain": [
       "Months since last delinquent    1358\n",
       "Credit Score                     513\n",
       "Annual Income                    513\n",
       "Years in current job              86\n",
       "Bankruptcies                       3\n",
       "Monthly Debt                       0\n",
       "Current Credit Balance             0\n",
       "Current Loan Amount                0\n",
       "Term                               0\n",
       "Purpose                            0\n",
       "Number of Credit Problems          0\n",
       "Maximum Open Credit                0\n",
       "Years of Credit History            0\n",
       "Number of Open Accounts            0\n",
       "Tax Liens                          0\n",
       "Home Ownership                     0\n",
       "dtype: int64"
      ]
     },
     "execution_count": 14,
     "metadata": {},
     "output_type": "execute_result"
    }
   ],
   "source": [
    "# Подсчитаем пропуски\n",
    "(len(test) - test.count()).sort_values(ascending = False)"
   ]
  },
  {
   "cell_type": "code",
   "execution_count": 15,
   "metadata": {},
   "outputs": [
    {
     "data": {
      "text/plain": [
       "Tax Liens                       7366\n",
       "Bankruptcies                    6660\n",
       "Number of Credit Problems       6469\n",
       "Credit Default                  5387\n",
       "Maximum Open Credit               65\n",
       "Current Credit Balance            53\n",
       "Months since last delinquent      18\n",
       "Monthly Debt                       6\n",
       "Purpose                            0\n",
       "Credit Score                       0\n",
       "Term                               0\n",
       "Current Loan Amount                0\n",
       "Years of Credit History            0\n",
       "Number of Open Accounts            0\n",
       "Years in current job               0\n",
       "Annual Income                      0\n",
       "Home Ownership                     0\n",
       "dtype: int64"
      ]
     },
     "execution_count": 15,
     "metadata": {},
     "output_type": "execute_result"
    }
   ],
   "source": [
    "# Подсчитаем нулевые значения(\n",
    "(train[train == 0].count()).sort_values(ascending = False).head(50)"
   ]
  },
  {
   "cell_type": "code",
   "execution_count": 16,
   "metadata": {},
   "outputs": [
    {
     "data": {
      "text/plain": [
       "Tax Liens                       2445\n",
       "Bankruptcies                    2252\n",
       "Number of Credit Problems       2177\n",
       "Maximum Open Credit               14\n",
       "Current Credit Balance            11\n",
       "Months since last delinquent       8\n",
       "Credit Score                       0\n",
       "Monthly Debt                       0\n",
       "Current Loan Amount                0\n",
       "Term                               0\n",
       "Purpose                            0\n",
       "Years of Credit History            0\n",
       "Number of Open Accounts            0\n",
       "Years in current job               0\n",
       "Annual Income                      0\n",
       "Home Ownership                     0\n",
       "dtype: int64"
      ]
     },
     "execution_count": 16,
     "metadata": {},
     "output_type": "execute_result"
    }
   ],
   "source": [
    "# Подсчитаем нулевые значения(\n",
    "(test[test == 0].count()).sort_values(ascending = False).head(50)"
   ]
  },
  {
   "cell_type": "markdown",
   "metadata": {},
   "source": [
    "**Home Ownership**"
   ]
  },
  {
   "cell_type": "code",
   "execution_count": 17,
   "metadata": {},
   "outputs": [
    {
     "data": {
      "image/png": "[encoded data removed]",
      "text/plain": [
       "<Figure size 432x288 with 1 Axes>"
      ]
     },
     "metadata": {
      "needs_background": "light"
     },
     "output_type": "display_data"
    }
   ],
   "source": [
    "sns.countplot(train['Home Ownership'], hue=train['Credit Default'], log=True);"
   ]
  },
  {
   "cell_type": "code",
   "execution_count": 18,
   "metadata": {},
   "outputs": [
    {
     "data": {
      "text/plain": [
       "Home Mortgage    0.484933\n",
       "Rent             0.427200\n",
       "Own Home         0.086267\n",
       "Have Mortgage    0.001600\n",
       "Name: Home Ownership, dtype: float64"
      ]
     },
     "execution_count": 18,
     "metadata": {},
     "output_type": "execute_result"
    }
   ],
   "source": [
    "train['Home Ownership'].value_counts(normalize=True)"
   ]
  },
  {
   "cell_type": "code",
   "execution_count": 19,
   "metadata": {},
   "outputs": [
    {
     "data": {
      "text/plain": [
       "Home Ownership\n",
       "Have Mortgage    0.166667\n",
       "Home Mortgage    0.251856\n",
       "Own Home         0.296754\n",
       "Rent             0.313046\n",
       "Name: Credit Default, dtype: float64"
      ]
     },
     "execution_count": 19,
     "metadata": {},
     "output_type": "execute_result"
    }
   ],
   "source": [
    "train.groupby(['Home Ownership'])['Credit Default'].mean()"
   ]
  },
  {
   "cell_type": "markdown",
   "metadata": {},
   "source": [
    "**Annual Income**"
   ]
  },
  {
   "cell_type": "code",
   "execution_count": 20,
   "metadata": {},
   "outputs": [
    {
     "data": {
      "image/png": "[encoded data removed]",
      "text/plain": [
       "<Figure size 720x360 with 1 Axes>"
      ]
     },
     "metadata": {
      "needs_background": "light"
     },
     "output_type": "display_data"
    }
   ],
   "source": [
    "train['Annual Income'].hist(bins=20, figsize=(10, 5))\n",
    "plt.show()"
   ]
  },
  {
   "cell_type": "code",
   "execution_count": 21,
   "metadata": {},
   "outputs": [
    {
     "data": {
      "image/png": "[encoded data removed]",
      "text/plain": [
       "<Figure size 720x360 with 1 Axes>"
      ]
     },
     "metadata": {
      "needs_background": "light"
     },
     "output_type": "display_data"
    }
   ],
   "source": [
    "train['Annual Income'].hist(bins=20, range = (6000000, 10000000), figsize=(10, 5))\n",
    "plt.show()"
   ]
  },
  {
   "cell_type": "markdown",
   "metadata": {},
   "source": [
    "есть \"дискретные\" значения, но это на больших суммах. не вижу смысла что-то делать"
   ]
  },
  {
   "cell_type": "markdown",
   "metadata": {},
   "source": [
    "посмотрим на test"
   ]
  },
  {
   "cell_type": "code",
   "execution_count": 22,
   "metadata": {},
   "outputs": [
    {
     "data": {
      "image/png": "[encoded data removed]",
      "text/plain": [
       "<Figure size 720x360 with 1 Axes>"
      ]
     },
     "metadata": {
      "needs_background": "light"
     },
     "output_type": "display_data"
    }
   ],
   "source": [
    "test['Annual Income'].hist(bins=20, figsize=(10, 5))\n",
    "plt.show()"
   ]
  },
  {
   "cell_type": "code",
   "execution_count": 23,
   "metadata": {},
   "outputs": [
    {
     "data": {
      "image/png": "[encoded data removed]",
      "text/plain": [
       "<Figure size 720x360 with 1 Axes>"
      ]
     },
     "metadata": {
      "needs_background": "light"
     },
     "output_type": "display_data"
    }
   ],
   "source": [
    "test['Annual Income'].hist(bins=20, range = (6000000, 15000000), figsize=(10, 5))\n",
    "plt.show()"
   ]
  },
  {
   "cell_type": "code",
   "execution_count": 24,
   "metadata": {},
   "outputs": [],
   "source": [
    "# очевиден выброс, заменяю\n",
    "test.loc[test['Annual Income'] > 1.4*10**7, 'Annual Income'] = test['Annual Income'].median()"
   ]
  },
  {
   "cell_type": "code",
   "execution_count": 25,
   "metadata": {},
   "outputs": [
    {
     "data": {
      "text/html": [
       "<div>\n",
       "<style scoped>\n",
       "    .dataframe tbody tr th:only-of-type {\n",
       "        vertical-align: middle;\n",
       "    }\n",
       "\n",
       "    .dataframe tbody tr th {\n",
       "        vertical-align: top;\n",
       "    }\n",
       "\n",
       "    .dataframe thead th {\n",
       "        text-align: right;\n",
       "    }\n",
       "</style>\n",
       "<table border=\"1\" class=\"dataframe\">\n",
       "  <thead>\n",
       "    <tr style=\"text-align: right;\">\n",
       "      <th></th>\n",
       "      <th>Home Ownership</th>\n",
       "      <th>Annual Income</th>\n",
       "      <th>Years in current job</th>\n",
       "      <th>Tax Liens</th>\n",
       "      <th>Number of Open Accounts</th>\n",
       "      <th>Years of Credit History</th>\n",
       "      <th>Maximum Open Credit</th>\n",
       "      <th>Number of Credit Problems</th>\n",
       "      <th>Months since last delinquent</th>\n",
       "      <th>Bankruptcies</th>\n",
       "      <th>Purpose</th>\n",
       "      <th>Term</th>\n",
       "      <th>Current Loan Amount</th>\n",
       "      <th>Current Credit Balance</th>\n",
       "      <th>Monthly Debt</th>\n",
       "      <th>Credit Score</th>\n",
       "    </tr>\n",
       "  </thead>\n",
       "  <tbody>\n",
       "  </tbody>\n",
       "</table>\n",
       "</div>"
      ],
      "text/plain": [
       "Empty DataFrame\n",
       "Columns: [Home Ownership, Annual Income, Years in current job, Tax Liens, Number of Open Accounts, Years of Credit History, Maximum Open Credit, Number of Credit Problems, Months since last delinquent, Bankruptcies, Purpose, Term, Current Loan Amount, Current Credit Balance, Monthly Debt, Credit Score]\n",
       "Index: []"
      ]
     },
     "execution_count": 25,
     "metadata": {},
     "output_type": "execute_result"
    }
   ],
   "source": [
    "test[test['Annual Income'] > 1.4*10**7].head()"
   ]
  },
  {
   "cell_type": "code",
   "execution_count": 26,
   "metadata": {},
   "outputs": [
    {
     "data": {
      "image/png": "[encoded data removed]",
      "text/plain": [
       "<Figure size 720x360 with 1 Axes>"
      ]
     },
     "metadata": {
      "needs_background": "light"
     },
     "output_type": "display_data"
    }
   ],
   "source": [
    "# посмотрим в разрезе целевой переменной\n",
    "annual_with_target_s = train[['Annual Income', TARGET_NAME]].sample(2000)\n",
    "annual_s = annual_with_target_s['Annual Income']\n",
    "annual_target_0 = annual_s[annual_with_target_s[TARGET_NAME] == 0]\n",
    "annual_target_1 = annual_s[annual_with_target_s[TARGET_NAME] == 1]\n",
    "\n",
    "plt.figure(figsize=(10, 5))\n",
    "\n",
    "sns.kdeplot(annual_target_0, shade=True, label='No default', color='g')\n",
    "sns.kdeplot(annual_target_1, shade=True, label='Default', color='r')\n",
    "\n",
    "plt.xlabel('Annual Income')\n",
    "plt.title('Annual Income grouped by target variable')\n",
    "plt.show()"
   ]
  },
  {
   "cell_type": "code",
   "execution_count": 27,
   "metadata": {},
   "outputs": [
    {
     "data": {
      "text/plain": [
       "ShapiroResult(statistic=nan, pvalue=1.0)"
      ]
     },
     "execution_count": 27,
     "metadata": {},
     "output_type": "execute_result"
    }
   ],
   "source": [
    "import scipy\n",
    "scipy.stats.shapiro(annual_s)"
   ]
  },
  {
   "cell_type": "code",
   "execution_count": 28,
   "metadata": {},
   "outputs": [
    {
     "data": {
      "text/plain": [
       "MannwhitneyuResult(statistic=402334.5, pvalue=0.18989689017290817)"
      ]
     },
     "execution_count": 28,
     "metadata": {},
     "output_type": "execute_result"
    }
   ],
   "source": [
    "scipy.stats.mannwhitneyu(annual_target_0, annual_target_1)"
   ]
  },
  {
   "cell_type": "code",
   "execution_count": 29,
   "metadata": {},
   "outputs": [
    {
     "data": {
      "image/png": "[encoded data removed]",
      "text/plain": [
       "<Figure size 576x360 with 1 Axes>"
      ]
     },
     "metadata": {
      "needs_background": "light"
     },
     "output_type": "display_data"
    }
   ],
   "source": [
    "plt.figure(figsize=(8, 5))\n",
    "\n",
    "sns.pointplot(x=TARGET_NAME, y='Annual Income', data=annual_with_target_s, capsize=.1)\n",
    "\n",
    "plt.title('Confidence intervals (95 %) for Annual Income')\n",
    "plt.show()"
   ]
  },
  {
   "cell_type": "markdown",
   "metadata": {},
   "source": [
    "Средние значения по целевой переменной значимо отличаются, следовательно, этот признак может быть полезен для определения целевой переменной"
   ]
  },
  {
   "cell_type": "markdown",
   "metadata": {},
   "source": [
    "**Years in current job**"
   ]
  },
  {
   "cell_type": "code",
   "execution_count": 30,
   "metadata": {},
   "outputs": [
    {
     "data": {
      "image/png": "[encoded data removed]",
      "text/plain": [
       "<Figure size 432x288 with 1 Axes>"
      ]
     },
     "metadata": {
      "needs_background": "light"
     },
     "output_type": "display_data"
    }
   ],
   "source": [
    "# посмотрим в разрезе целевой переменной\n",
    "sns.countplot(train['Years in current job'].fillna('No data'), hue=train['Credit Default'], log=True);"
   ]
  },
  {
   "cell_type": "code",
   "execution_count": 31,
   "metadata": {},
   "outputs": [
    {
     "data": {
      "text/plain": [
       "10+ years    0.310933\n",
       "2 years      0.094000\n",
       "3 years      0.082667\n",
       "< 1 year     0.075067\n",
       "5 years      0.068800\n",
       "1 year       0.067200\n",
       "4 years      0.062533\n",
       "6 years      0.056800\n",
       "7 years      0.052800\n",
       "No data      0.049467\n",
       "8 years      0.045200\n",
       "9 years      0.034533\n",
       "Name: Years in current job, dtype: float64"
      ]
     },
     "execution_count": 31,
     "metadata": {},
     "output_type": "execute_result"
    }
   ],
   "source": [
    "# посмотрим пропуски\n",
    "train['Years in current job'].fillna('No data').value_counts(normalize=True)"
   ]
  },
  {
   "cell_type": "code",
   "execution_count": 32,
   "metadata": {},
   "outputs": [
    {
     "data": {
      "text/plain": [
       "10+ years    0.3240\n",
       "3 years      0.0912\n",
       "2 years      0.0848\n",
       "< 1 year     0.0828\n",
       "5 years      0.0676\n",
       "1 year       0.0612\n",
       "4 years      0.0608\n",
       "7 years      0.0560\n",
       "6 years      0.0548\n",
       "8 years      0.0428\n",
       "9 years      0.0396\n",
       "No data      0.0344\n",
       "Name: Years in current job, dtype: float64"
      ]
     },
     "execution_count": 32,
     "metadata": {},
     "output_type": "execute_result"
    }
   ],
   "source": [
    "test['Years in current job'].fillna('No data').value_counts(normalize=True)"
   ]
  },
  {
   "cell_type": "code",
   "execution_count": 33,
   "metadata": {},
   "outputs": [
    {
     "data": {
      "text/plain": [
       "'10+ years'"
      ]
     },
     "execution_count": 33,
     "metadata": {},
     "output_type": "execute_result"
    }
   ],
   "source": [
    "# заменим пропуски на моду\n",
    "train['Years in current job'].mode()[0]"
   ]
  },
  {
   "cell_type": "code",
   "execution_count": 34,
   "metadata": {},
   "outputs": [
    {
     "data": {
      "text/plain": [
       "'10+ years'"
      ]
     },
     "execution_count": 34,
     "metadata": {},
     "output_type": "execute_result"
    }
   ],
   "source": [
    "test['Years in current job'].mode()[0]"
   ]
  },
  {
   "cell_type": "code",
   "execution_count": 35,
   "metadata": {},
   "outputs": [],
   "source": [
    "train['Years in current job'].fillna(train['Years in current job'].mode()[0], inplace=True)\n",
    "test['Years in current job'].fillna(train['Years in current job'].mode()[0], inplace=True)"
   ]
  },
  {
   "cell_type": "code",
   "execution_count": 36,
   "metadata": {},
   "outputs": [
    {
     "data": {
      "text/plain": [
       "<AxesSubplot:xlabel='Years in current job', ylabel='Count'>"
      ]
     },
     "execution_count": 36,
     "metadata": {},
     "output_type": "execute_result"
    },
    {
     "data": {
      "image/png": "[encoded data removed]",
      "text/plain": [
       "<Figure size 432x288 with 1 Axes>"
      ]
     },
     "metadata": {
      "needs_background": "light"
     },
     "output_type": "display_data"
    }
   ],
   "source": [
    "sns.histplot(x='Years in current job', hue=TARGET_NAME,kde=True, alpha=0.5, data=train)"
   ]
  },
  {
   "cell_type": "markdown",
   "metadata": {},
   "source": [
    "**Tax Liens**"
   ]
  },
  {
   "cell_type": "code",
   "execution_count": 37,
   "metadata": {},
   "outputs": [
    {
     "data": {
      "image/png": "[encoded data removed]",
      "text/plain": [
       "<Figure size 432x288 with 1 Axes>"
      ]
     },
     "metadata": {
      "needs_background": "light"
     },
     "output_type": "display_data"
    }
   ],
   "source": [
    "sns.countplot(train['Tax Liens'], hue=train['Credit Default'], log=True);"
   ]
  },
  {
   "cell_type": "code",
   "execution_count": 38,
   "metadata": {},
   "outputs": [
    {
     "data": {
      "text/plain": [
       "0.0    0.982133\n",
       "1.0    0.011067\n",
       "2.0    0.004000\n",
       "3.0    0.001333\n",
       "4.0    0.000800\n",
       "5.0    0.000267\n",
       "6.0    0.000267\n",
       "7.0    0.000133\n",
       "Name: Tax Liens, dtype: float64"
      ]
     },
     "execution_count": 38,
     "metadata": {},
     "output_type": "execute_result"
    }
   ],
   "source": [
    "train['Tax Liens'].value_counts(normalize=True)"
   ]
  },
  {
   "cell_type": "code",
   "execution_count": 39,
   "metadata": {},
   "outputs": [
    {
     "data": {
      "text/plain": [
       "Tax Liens\n",
       "0.0    0.280342\n",
       "1.0    0.289157\n",
       "2.0    0.500000\n",
       "3.0    0.500000\n",
       "4.0    0.500000\n",
       "5.0    0.500000\n",
       "6.0    0.000000\n",
       "7.0    0.000000\n",
       "Name: Credit Default, dtype: float64"
      ]
     },
     "execution_count": 39,
     "metadata": {},
     "output_type": "execute_result"
    }
   ],
   "source": [
    "train.groupby(['Tax Liens'])['Credit Default'].mean()"
   ]
  },
  {
   "cell_type": "markdown",
   "metadata": {},
   "source": [
    "**Number of Open Accounts**"
   ]
  },
  {
   "cell_type": "code",
   "execution_count": 40,
   "metadata": {},
   "outputs": [
    {
     "data": {
      "image/png": "[encoded data removed]",
      "text/plain": [
       "<Figure size 432x288 with 1 Axes>"
      ]
     },
     "metadata": {
      "needs_background": "light"
     },
     "output_type": "display_data"
    }
   ],
   "source": [
    "sns.boxplot(x=train['Credit Default'], y=(train['Number of Open Accounts']));"
   ]
  },
  {
   "cell_type": "markdown",
   "metadata": {},
   "source": [
    "**Years of Credit History**"
   ]
  },
  {
   "cell_type": "code",
   "execution_count": 41,
   "metadata": {},
   "outputs": [
    {
     "data": {
      "image/png": "[encoded data removed]",
      "text/plain": [
       "<Figure size 432x288 with 1 Axes>"
      ]
     },
     "metadata": {
      "needs_background": "light"
     },
     "output_type": "display_data"
    }
   ],
   "source": [
    "sns.boxplot(x=train['Credit Default'], y=(train['Years of Credit History']));"
   ]
  },
  {
   "cell_type": "code",
   "execution_count": 42,
   "metadata": {},
   "outputs": [
    {
     "name": "stdout",
     "output_type": "stream",
     "text": [
      "1\n"
     ]
    },
    {
     "data": {
      "text/html": [
       "<div>\n",
       "<style scoped>\n",
       "    .dataframe tbody tr th:only-of-type {\n",
       "        vertical-align: middle;\n",
       "    }\n",
       "\n",
       "    .dataframe tbody tr th {\n",
       "        vertical-align: top;\n",
       "    }\n",
       "\n",
       "    .dataframe thead th {\n",
       "        text-align: right;\n",
       "    }\n",
       "</style>\n",
       "<table border=\"1\" class=\"dataframe\">\n",
       "  <thead>\n",
       "    <tr style=\"text-align: right;\">\n",
       "      <th></th>\n",
       "      <th>Home Ownership</th>\n",
       "      <th>Annual Income</th>\n",
       "      <th>Years in current job</th>\n",
       "      <th>Tax Liens</th>\n",
       "      <th>Number of Open Accounts</th>\n",
       "      <th>Years of Credit History</th>\n",
       "      <th>Maximum Open Credit</th>\n",
       "      <th>Number of Credit Problems</th>\n",
       "      <th>Months since last delinquent</th>\n",
       "      <th>Bankruptcies</th>\n",
       "      <th>Purpose</th>\n",
       "      <th>Term</th>\n",
       "      <th>Current Loan Amount</th>\n",
       "      <th>Current Credit Balance</th>\n",
       "      <th>Monthly Debt</th>\n",
       "      <th>Credit Score</th>\n",
       "      <th>Credit Default</th>\n",
       "    </tr>\n",
       "  </thead>\n",
       "  <tbody>\n",
       "    <tr>\n",
       "      <th>476</th>\n",
       "      <td>Home Mortgage</td>\n",
       "      <td>1076768.0</td>\n",
       "      <td>10+ years</td>\n",
       "      <td>0.0</td>\n",
       "      <td>14.0</td>\n",
       "      <td>57.7</td>\n",
       "      <td>432124.0</td>\n",
       "      <td>0.0</td>\n",
       "      <td>24.0</td>\n",
       "      <td>0.0</td>\n",
       "      <td>debt consolidation</td>\n",
       "      <td>Long Term</td>\n",
       "      <td>558360.0</td>\n",
       "      <td>186219.0</td>\n",
       "      <td>13818.0</td>\n",
       "      <td>667.0</td>\n",
       "      <td>1</td>\n",
       "    </tr>\n",
       "  </tbody>\n",
       "</table>\n",
       "</div>"
      ],
      "text/plain": [
       "    Home Ownership  Annual Income Years in current job  Tax Liens  \\\n",
       "476  Home Mortgage      1076768.0            10+ years        0.0   \n",
       "\n",
       "     Number of Open Accounts  Years of Credit History  Maximum Open Credit  \\\n",
       "476                     14.0                     57.7             432124.0   \n",
       "\n",
       "     Number of Credit Problems  Months since last delinquent  Bankruptcies  \\\n",
       "476                        0.0                          24.0           0.0   \n",
       "\n",
       "                Purpose       Term  Current Loan Amount  \\\n",
       "476  debt consolidation  Long Term             558360.0   \n",
       "\n",
       "     Current Credit Balance  Monthly Debt  Credit Score  Credit Default  \n",
       "476                186219.0       13818.0         667.0               1  "
      ]
     },
     "execution_count": 42,
     "metadata": {},
     "output_type": "execute_result"
    }
   ],
   "source": [
    "print(train[train['Years of Credit History'] > 55].shape[0])\n",
    "train[train['Years of Credit History'] > 55].head()"
   ]
  },
  {
   "cell_type": "markdown",
   "metadata": {},
   "source": [
    "**Maximum Open Credit**"
   ]
  },
  {
   "cell_type": "code",
   "execution_count": 43,
   "metadata": {},
   "outputs": [
    {
     "data": {
      "image/png": "[encoded data removed]",
      "text/plain": [
       "<Figure size 432x288 with 1 Axes>"
      ]
     },
     "metadata": {
      "needs_background": "light"
     },
     "output_type": "display_data"
    }
   ],
   "source": [
    "sns.boxplot(x=train['Credit Default'], y=np.log1p(train['Maximum Open Credit']));"
   ]
  },
  {
   "cell_type": "code",
   "execution_count": 44,
   "metadata": {},
   "outputs": [
    {
     "name": "stdout",
     "output_type": "stream",
     "text": [
      "26\n"
     ]
    },
    {
     "data": {
      "text/html": [
       "<div>\n",
       "<style scoped>\n",
       "    .dataframe tbody tr th:only-of-type {\n",
       "        vertical-align: middle;\n",
       "    }\n",
       "\n",
       "    .dataframe tbody tr th {\n",
       "        vertical-align: top;\n",
       "    }\n",
       "\n",
       "    .dataframe thead th {\n",
       "        text-align: right;\n",
       "    }\n",
       "</style>\n",
       "<table border=\"1\" class=\"dataframe\">\n",
       "  <thead>\n",
       "    <tr style=\"text-align: right;\">\n",
       "      <th></th>\n",
       "      <th>Home Ownership</th>\n",
       "      <th>Annual Income</th>\n",
       "      <th>Years in current job</th>\n",
       "      <th>Tax Liens</th>\n",
       "      <th>Number of Open Accounts</th>\n",
       "      <th>Years of Credit History</th>\n",
       "      <th>Maximum Open Credit</th>\n",
       "      <th>Number of Credit Problems</th>\n",
       "      <th>Months since last delinquent</th>\n",
       "      <th>Bankruptcies</th>\n",
       "      <th>Purpose</th>\n",
       "      <th>Term</th>\n",
       "      <th>Current Loan Amount</th>\n",
       "      <th>Current Credit Balance</th>\n",
       "      <th>Monthly Debt</th>\n",
       "      <th>Credit Score</th>\n",
       "      <th>Credit Default</th>\n",
       "    </tr>\n",
       "  </thead>\n",
       "  <tbody>\n",
       "    <tr>\n",
       "      <th>44</th>\n",
       "      <td>Have Mortgage</td>\n",
       "      <td>1334256.0</td>\n",
       "      <td>10+ years</td>\n",
       "      <td>0.0</td>\n",
       "      <td>17.0</td>\n",
       "      <td>15.4</td>\n",
       "      <td>3.800523e+08</td>\n",
       "      <td>1.0</td>\n",
       "      <td>35.0</td>\n",
       "      <td>0.0</td>\n",
       "      <td>take a trip</td>\n",
       "      <td>Short Term</td>\n",
       "      <td>33110.0</td>\n",
       "      <td>656450.0</td>\n",
       "      <td>34357.0</td>\n",
       "      <td>729.0</td>\n",
       "      <td>0</td>\n",
       "    </tr>\n",
       "    <tr>\n",
       "      <th>85</th>\n",
       "      <td>Home Mortgage</td>\n",
       "      <td>1301614.0</td>\n",
       "      <td>9 years</td>\n",
       "      <td>0.0</td>\n",
       "      <td>17.0</td>\n",
       "      <td>18.0</td>\n",
       "      <td>9.339924e+06</td>\n",
       "      <td>0.0</td>\n",
       "      <td>NaN</td>\n",
       "      <td>0.0</td>\n",
       "      <td>debt consolidation</td>\n",
       "      <td>Short Term</td>\n",
       "      <td>592240.0</td>\n",
       "      <td>959899.0</td>\n",
       "      <td>16813.0</td>\n",
       "      <td>748.0</td>\n",
       "      <td>0</td>\n",
       "    </tr>\n",
       "    <tr>\n",
       "      <th>354</th>\n",
       "      <td>Home Mortgage</td>\n",
       "      <td>2126537.0</td>\n",
       "      <td>10+ years</td>\n",
       "      <td>0.0</td>\n",
       "      <td>23.0</td>\n",
       "      <td>23.0</td>\n",
       "      <td>1.476048e+07</td>\n",
       "      <td>0.0</td>\n",
       "      <td>NaN</td>\n",
       "      <td>0.0</td>\n",
       "      <td>debt consolidation</td>\n",
       "      <td>Long Term</td>\n",
       "      <td>778624.0</td>\n",
       "      <td>1019806.0</td>\n",
       "      <td>40227.0</td>\n",
       "      <td>697.0</td>\n",
       "      <td>0</td>\n",
       "    </tr>\n",
       "    <tr>\n",
       "      <th>617</th>\n",
       "      <td>Home Mortgage</td>\n",
       "      <td>NaN</td>\n",
       "      <td>3 years</td>\n",
       "      <td>0.0</td>\n",
       "      <td>13.0</td>\n",
       "      <td>27.5</td>\n",
       "      <td>1.304726e+09</td>\n",
       "      <td>0.0</td>\n",
       "      <td>NaN</td>\n",
       "      <td>0.0</td>\n",
       "      <td>debt consolidation</td>\n",
       "      <td>Short Term</td>\n",
       "      <td>529892.0</td>\n",
       "      <td>1126814.0</td>\n",
       "      <td>5492.0</td>\n",
       "      <td>NaN</td>\n",
       "      <td>0</td>\n",
       "    </tr>\n",
       "    <tr>\n",
       "      <th>1476</th>\n",
       "      <td>Own Home</td>\n",
       "      <td>NaN</td>\n",
       "      <td>8 years</td>\n",
       "      <td>0.0</td>\n",
       "      <td>14.0</td>\n",
       "      <td>28.9</td>\n",
       "      <td>1.042866e+07</td>\n",
       "      <td>0.0</td>\n",
       "      <td>NaN</td>\n",
       "      <td>0.0</td>\n",
       "      <td>debt consolidation</td>\n",
       "      <td>Short Term</td>\n",
       "      <td>656766.0</td>\n",
       "      <td>1089802.0</td>\n",
       "      <td>16531.0</td>\n",
       "      <td>NaN</td>\n",
       "      <td>0</td>\n",
       "    </tr>\n",
       "    <tr>\n",
       "      <th>1879</th>\n",
       "      <td>Home Mortgage</td>\n",
       "      <td>1433835.0</td>\n",
       "      <td>6 years</td>\n",
       "      <td>0.0</td>\n",
       "      <td>8.0</td>\n",
       "      <td>17.8</td>\n",
       "      <td>1.270144e+07</td>\n",
       "      <td>0.0</td>\n",
       "      <td>35.0</td>\n",
       "      <td>0.0</td>\n",
       "      <td>debt consolidation</td>\n",
       "      <td>Short Term</td>\n",
       "      <td>197384.0</td>\n",
       "      <td>1985462.0</td>\n",
       "      <td>14099.0</td>\n",
       "      <td>749.0</td>\n",
       "      <td>0</td>\n",
       "    </tr>\n",
       "    <tr>\n",
       "      <th>2023</th>\n",
       "      <td>Rent</td>\n",
       "      <td>1342825.0</td>\n",
       "      <td>10+ years</td>\n",
       "      <td>0.0</td>\n",
       "      <td>12.0</td>\n",
       "      <td>16.3</td>\n",
       "      <td>5.756256e+07</td>\n",
       "      <td>0.0</td>\n",
       "      <td>NaN</td>\n",
       "      <td>0.0</td>\n",
       "      <td>other</td>\n",
       "      <td>Short Term</td>\n",
       "      <td>166826.0</td>\n",
       "      <td>944547.0</td>\n",
       "      <td>9176.0</td>\n",
       "      <td>749.0</td>\n",
       "      <td>0</td>\n",
       "    </tr>\n",
       "    <tr>\n",
       "      <th>2036</th>\n",
       "      <td>Home Mortgage</td>\n",
       "      <td>1172984.0</td>\n",
       "      <td>4 years</td>\n",
       "      <td>0.0</td>\n",
       "      <td>6.0</td>\n",
       "      <td>24.2</td>\n",
       "      <td>9.094184e+06</td>\n",
       "      <td>0.0</td>\n",
       "      <td>NaN</td>\n",
       "      <td>0.0</td>\n",
       "      <td>business loan</td>\n",
       "      <td>Long Term</td>\n",
       "      <td>335324.0</td>\n",
       "      <td>1413733.0</td>\n",
       "      <td>8709.0</td>\n",
       "      <td>748.0</td>\n",
       "      <td>0</td>\n",
       "    </tr>\n",
       "    <tr>\n",
       "      <th>2431</th>\n",
       "      <td>Own Home</td>\n",
       "      <td>1283279.0</td>\n",
       "      <td>10+ years</td>\n",
       "      <td>0.0</td>\n",
       "      <td>17.0</td>\n",
       "      <td>31.4</td>\n",
       "      <td>8.947840e+06</td>\n",
       "      <td>0.0</td>\n",
       "      <td>26.0</td>\n",
       "      <td>0.0</td>\n",
       "      <td>debt consolidation</td>\n",
       "      <td>Short Term</td>\n",
       "      <td>350350.0</td>\n",
       "      <td>2024659.0</td>\n",
       "      <td>25880.0</td>\n",
       "      <td>747.0</td>\n",
       "      <td>0</td>\n",
       "    </tr>\n",
       "    <tr>\n",
       "      <th>2468</th>\n",
       "      <td>Home Mortgage</td>\n",
       "      <td>5589420.0</td>\n",
       "      <td>4 years</td>\n",
       "      <td>0.0</td>\n",
       "      <td>11.0</td>\n",
       "      <td>12.3</td>\n",
       "      <td>1.634591e+07</td>\n",
       "      <td>0.0</td>\n",
       "      <td>24.0</td>\n",
       "      <td>0.0</td>\n",
       "      <td>home improvements</td>\n",
       "      <td>Long Term</td>\n",
       "      <td>99999999.0</td>\n",
       "      <td>2315169.0</td>\n",
       "      <td>74991.0</td>\n",
       "      <td>735.0</td>\n",
       "      <td>0</td>\n",
       "    </tr>\n",
       "    <tr>\n",
       "      <th>2617</th>\n",
       "      <td>Home Mortgage</td>\n",
       "      <td>3217802.0</td>\n",
       "      <td>10+ years</td>\n",
       "      <td>0.0</td>\n",
       "      <td>12.0</td>\n",
       "      <td>35.5</td>\n",
       "      <td>2.655129e+08</td>\n",
       "      <td>0.0</td>\n",
       "      <td>NaN</td>\n",
       "      <td>0.0</td>\n",
       "      <td>other</td>\n",
       "      <td>Short Term</td>\n",
       "      <td>50116.0</td>\n",
       "      <td>1834450.0</td>\n",
       "      <td>20272.0</td>\n",
       "      <td>750.0</td>\n",
       "      <td>0</td>\n",
       "    </tr>\n",
       "    <tr>\n",
       "      <th>2763</th>\n",
       "      <td>Home Mortgage</td>\n",
       "      <td>3377440.0</td>\n",
       "      <td>10+ years</td>\n",
       "      <td>0.0</td>\n",
       "      <td>11.0</td>\n",
       "      <td>23.2</td>\n",
       "      <td>4.092389e+07</td>\n",
       "      <td>0.0</td>\n",
       "      <td>59.0</td>\n",
       "      <td>0.0</td>\n",
       "      <td>home improvements</td>\n",
       "      <td>Short Term</td>\n",
       "      <td>99999999.0</td>\n",
       "      <td>1908550.0</td>\n",
       "      <td>5770.0</td>\n",
       "      <td>743.0</td>\n",
       "      <td>0</td>\n",
       "    </tr>\n",
       "    <tr>\n",
       "      <th>3170</th>\n",
       "      <td>Home Mortgage</td>\n",
       "      <td>2226230.0</td>\n",
       "      <td>10+ years</td>\n",
       "      <td>0.0</td>\n",
       "      <td>20.0</td>\n",
       "      <td>19.0</td>\n",
       "      <td>1.868381e+07</td>\n",
       "      <td>0.0</td>\n",
       "      <td>NaN</td>\n",
       "      <td>0.0</td>\n",
       "      <td>buy a car</td>\n",
       "      <td>Short Term</td>\n",
       "      <td>111892.0</td>\n",
       "      <td>2355867.0</td>\n",
       "      <td>17123.0</td>\n",
       "      <td>750.0</td>\n",
       "      <td>0</td>\n",
       "    </tr>\n",
       "    <tr>\n",
       "      <th>4072</th>\n",
       "      <td>Home Mortgage</td>\n",
       "      <td>2598345.0</td>\n",
       "      <td>8 years</td>\n",
       "      <td>0.0</td>\n",
       "      <td>9.0</td>\n",
       "      <td>20.7</td>\n",
       "      <td>1.389707e+07</td>\n",
       "      <td>0.0</td>\n",
       "      <td>NaN</td>\n",
       "      <td>0.0</td>\n",
       "      <td>debt consolidation</td>\n",
       "      <td>Short Term</td>\n",
       "      <td>312004.0</td>\n",
       "      <td>1392225.0</td>\n",
       "      <td>61278.0</td>\n",
       "      <td>744.0</td>\n",
       "      <td>0</td>\n",
       "    </tr>\n",
       "    <tr>\n",
       "      <th>4602</th>\n",
       "      <td>Home Mortgage</td>\n",
       "      <td>3990038.0</td>\n",
       "      <td>10+ years</td>\n",
       "      <td>0.0</td>\n",
       "      <td>10.0</td>\n",
       "      <td>23.0</td>\n",
       "      <td>9.541136e+06</td>\n",
       "      <td>0.0</td>\n",
       "      <td>5.0</td>\n",
       "      <td>0.0</td>\n",
       "      <td>home improvements</td>\n",
       "      <td>Long Term</td>\n",
       "      <td>788788.0</td>\n",
       "      <td>4367245.0</td>\n",
       "      <td>29792.0</td>\n",
       "      <td>687.0</td>\n",
       "      <td>0</td>\n",
       "    </tr>\n",
       "    <tr>\n",
       "      <th>4745</th>\n",
       "      <td>Own Home</td>\n",
       "      <td>6029954.0</td>\n",
       "      <td>4 years</td>\n",
       "      <td>0.0</td>\n",
       "      <td>30.0</td>\n",
       "      <td>17.5</td>\n",
       "      <td>1.160386e+07</td>\n",
       "      <td>0.0</td>\n",
       "      <td>NaN</td>\n",
       "      <td>0.0</td>\n",
       "      <td>debt consolidation</td>\n",
       "      <td>Short Term</td>\n",
       "      <td>753588.0</td>\n",
       "      <td>4720132.0</td>\n",
       "      <td>136679.0</td>\n",
       "      <td>745.0</td>\n",
       "      <td>0</td>\n",
       "    </tr>\n",
       "    <tr>\n",
       "      <th>4769</th>\n",
       "      <td>Home Mortgage</td>\n",
       "      <td>3739960.0</td>\n",
       "      <td>9 years</td>\n",
       "      <td>0.0</td>\n",
       "      <td>7.0</td>\n",
       "      <td>22.8</td>\n",
       "      <td>2.634333e+07</td>\n",
       "      <td>0.0</td>\n",
       "      <td>NaN</td>\n",
       "      <td>0.0</td>\n",
       "      <td>home improvements</td>\n",
       "      <td>Short Term</td>\n",
       "      <td>757834.0</td>\n",
       "      <td>6506797.0</td>\n",
       "      <td>38023.0</td>\n",
       "      <td>703.0</td>\n",
       "      <td>0</td>\n",
       "    </tr>\n",
       "    <tr>\n",
       "      <th>4840</th>\n",
       "      <td>Home Mortgage</td>\n",
       "      <td>1687599.0</td>\n",
       "      <td>5 years</td>\n",
       "      <td>0.0</td>\n",
       "      <td>17.0</td>\n",
       "      <td>17.1</td>\n",
       "      <td>1.020160e+07</td>\n",
       "      <td>0.0</td>\n",
       "      <td>21.0</td>\n",
       "      <td>0.0</td>\n",
       "      <td>debt consolidation</td>\n",
       "      <td>Short Term</td>\n",
       "      <td>99999999.0</td>\n",
       "      <td>2784108.0</td>\n",
       "      <td>26298.0</td>\n",
       "      <td>735.0</td>\n",
       "      <td>0</td>\n",
       "    </tr>\n",
       "    <tr>\n",
       "      <th>5147</th>\n",
       "      <td>Home Mortgage</td>\n",
       "      <td>1432277.0</td>\n",
       "      <td>10+ years</td>\n",
       "      <td>0.0</td>\n",
       "      <td>6.0</td>\n",
       "      <td>29.2</td>\n",
       "      <td>9.516540e+06</td>\n",
       "      <td>0.0</td>\n",
       "      <td>NaN</td>\n",
       "      <td>0.0</td>\n",
       "      <td>home improvements</td>\n",
       "      <td>Short Term</td>\n",
       "      <td>99999999.0</td>\n",
       "      <td>591755.0</td>\n",
       "      <td>3569.0</td>\n",
       "      <td>750.0</td>\n",
       "      <td>0</td>\n",
       "    </tr>\n",
       "    <tr>\n",
       "      <th>5523</th>\n",
       "      <td>Home Mortgage</td>\n",
       "      <td>1520304.0</td>\n",
       "      <td>10+ years</td>\n",
       "      <td>0.0</td>\n",
       "      <td>21.0</td>\n",
       "      <td>35.5</td>\n",
       "      <td>2.137243e+07</td>\n",
       "      <td>0.0</td>\n",
       "      <td>0.0</td>\n",
       "      <td>0.0</td>\n",
       "      <td>other</td>\n",
       "      <td>Long Term</td>\n",
       "      <td>99999999.0</td>\n",
       "      <td>1975012.0</td>\n",
       "      <td>12555.0</td>\n",
       "      <td>728.0</td>\n",
       "      <td>0</td>\n",
       "    </tr>\n",
       "    <tr>\n",
       "      <th>5731</th>\n",
       "      <td>Home Mortgage</td>\n",
       "      <td>1475198.0</td>\n",
       "      <td>8 years</td>\n",
       "      <td>0.0</td>\n",
       "      <td>10.0</td>\n",
       "      <td>24.9</td>\n",
       "      <td>1.928043e+07</td>\n",
       "      <td>0.0</td>\n",
       "      <td>NaN</td>\n",
       "      <td>0.0</td>\n",
       "      <td>debt consolidation</td>\n",
       "      <td>Short Term</td>\n",
       "      <td>99999999.0</td>\n",
       "      <td>1132286.0</td>\n",
       "      <td>17543.0</td>\n",
       "      <td>751.0</td>\n",
       "      <td>0</td>\n",
       "    </tr>\n",
       "    <tr>\n",
       "      <th>5950</th>\n",
       "      <td>Home Mortgage</td>\n",
       "      <td>1921660.0</td>\n",
       "      <td>10+ years</td>\n",
       "      <td>0.0</td>\n",
       "      <td>13.0</td>\n",
       "      <td>21.0</td>\n",
       "      <td>1.151346e+07</td>\n",
       "      <td>0.0</td>\n",
       "      <td>NaN</td>\n",
       "      <td>0.0</td>\n",
       "      <td>home improvements</td>\n",
       "      <td>Long Term</td>\n",
       "      <td>267014.0</td>\n",
       "      <td>835259.0</td>\n",
       "      <td>32636.0</td>\n",
       "      <td>738.0</td>\n",
       "      <td>0</td>\n",
       "    </tr>\n",
       "    <tr>\n",
       "      <th>5974</th>\n",
       "      <td>Home Mortgage</td>\n",
       "      <td>3131865.0</td>\n",
       "      <td>10+ years</td>\n",
       "      <td>0.0</td>\n",
       "      <td>8.0</td>\n",
       "      <td>24.8</td>\n",
       "      <td>8.903180e+06</td>\n",
       "      <td>0.0</td>\n",
       "      <td>NaN</td>\n",
       "      <td>0.0</td>\n",
       "      <td>debt consolidation</td>\n",
       "      <td>Long Term</td>\n",
       "      <td>559636.0</td>\n",
       "      <td>2875726.0</td>\n",
       "      <td>22210.0</td>\n",
       "      <td>745.0</td>\n",
       "      <td>0</td>\n",
       "    </tr>\n",
       "    <tr>\n",
       "      <th>6265</th>\n",
       "      <td>Home Mortgage</td>\n",
       "      <td>NaN</td>\n",
       "      <td>10+ years</td>\n",
       "      <td>0.0</td>\n",
       "      <td>13.0</td>\n",
       "      <td>22.8</td>\n",
       "      <td>9.167356e+06</td>\n",
       "      <td>0.0</td>\n",
       "      <td>41.0</td>\n",
       "      <td>0.0</td>\n",
       "      <td>home improvements</td>\n",
       "      <td>Short Term</td>\n",
       "      <td>769384.0</td>\n",
       "      <td>2240594.0</td>\n",
       "      <td>69413.0</td>\n",
       "      <td>NaN</td>\n",
       "      <td>0</td>\n",
       "    </tr>\n",
       "    <tr>\n",
       "      <th>6744</th>\n",
       "      <td>Home Mortgage</td>\n",
       "      <td>2390675.0</td>\n",
       "      <td>&lt; 1 year</td>\n",
       "      <td>0.0</td>\n",
       "      <td>15.0</td>\n",
       "      <td>20.1</td>\n",
       "      <td>1.030907e+07</td>\n",
       "      <td>0.0</td>\n",
       "      <td>NaN</td>\n",
       "      <td>0.0</td>\n",
       "      <td>other</td>\n",
       "      <td>Long Term</td>\n",
       "      <td>775082.0</td>\n",
       "      <td>1006069.0</td>\n",
       "      <td>30481.0</td>\n",
       "      <td>728.0</td>\n",
       "      <td>0</td>\n",
       "    </tr>\n",
       "    <tr>\n",
       "      <th>7026</th>\n",
       "      <td>Home Mortgage</td>\n",
       "      <td>3312365.0</td>\n",
       "      <td>5 years</td>\n",
       "      <td>0.0</td>\n",
       "      <td>13.0</td>\n",
       "      <td>25.3</td>\n",
       "      <td>2.640700e+07</td>\n",
       "      <td>0.0</td>\n",
       "      <td>50.0</td>\n",
       "      <td>0.0</td>\n",
       "      <td>home improvements</td>\n",
       "      <td>Long Term</td>\n",
       "      <td>99999999.0</td>\n",
       "      <td>2440246.0</td>\n",
       "      <td>39196.0</td>\n",
       "      <td>745.0</td>\n",
       "      <td>0</td>\n",
       "    </tr>\n",
       "  </tbody>\n",
       "</table>\n",
       "</div>"
      ],
      "text/plain": [
       "     Home Ownership  Annual Income Years in current job  Tax Liens  \\\n",
       "44    Have Mortgage      1334256.0            10+ years        0.0   \n",
       "85    Home Mortgage      1301614.0              9 years        0.0   \n",
       "354   Home Mortgage      2126537.0            10+ years        0.0   \n",
       "617   Home Mortgage            NaN              3 years        0.0   \n",
       "1476       Own Home            NaN              8 years        0.0   \n",
       "1879  Home Mortgage      1433835.0              6 years        0.0   \n",
       "2023           Rent      1342825.0            10+ years        0.0   \n",
       "2036  Home Mortgage      1172984.0              4 years        0.0   \n",
       "2431       Own Home      1283279.0            10+ years        0.0   \n",
       "2468  Home Mortgage      5589420.0              4 years        0.0   \n",
       "2617  Home Mortgage      3217802.0            10+ years        0.0   \n",
       "2763  Home Mortgage      3377440.0            10+ years        0.0   \n",
       "3170  Home Mortgage      2226230.0            10+ years        0.0   \n",
       "4072  Home Mortgage      2598345.0              8 years        0.0   \n",
       "4602  Home Mortgage      3990038.0            10+ years        0.0   \n",
       "4745       Own Home      6029954.0              4 years        0.0   \n",
       "4769  Home Mortgage      3739960.0              9 years        0.0   \n",
       "4840  Home Mortgage      1687599.0              5 years        0.0   \n",
       "5147  Home Mortgage      1432277.0            10+ years        0.0   \n",
       "5523  Home Mortgage      1520304.0            10+ years        0.0   \n",
       "5731  Home Mortgage      1475198.0              8 years        0.0   \n",
       "5950  Home Mortgage      1921660.0            10+ years        0.0   \n",
       "5974  Home Mortgage      3131865.0            10+ years        0.0   \n",
       "6265  Home Mortgage            NaN            10+ years        0.0   \n",
       "6744  Home Mortgage      2390675.0             < 1 year        0.0   \n",
       "7026  Home Mortgage      3312365.0              5 years        0.0   \n",
       "\n",
       "      Number of Open Accounts  Years of Credit History  Maximum Open Credit  \\\n",
       "44                       17.0                     15.4         3.800523e+08   \n",
       "85                       17.0                     18.0         9.339924e+06   \n",
       "354                      23.0                     23.0         1.476048e+07   \n",
       "617                      13.0                     27.5         1.304726e+09   \n",
       "1476                     14.0                     28.9         1.042866e+07   \n",
       "1879                      8.0                     17.8         1.270144e+07   \n",
       "2023                     12.0                     16.3         5.756256e+07   \n",
       "2036                      6.0                     24.2         9.094184e+06   \n",
       "2431                     17.0                     31.4         8.947840e+06   \n",
       "2468                     11.0                     12.3         1.634591e+07   \n",
       "2617                     12.0                     35.5         2.655129e+08   \n",
       "2763                     11.0                     23.2         4.092389e+07   \n",
       "3170                     20.0                     19.0         1.868381e+07   \n",
       "4072                      9.0                     20.7         1.389707e+07   \n",
       "4602                     10.0                     23.0         9.541136e+06   \n",
       "4745                     30.0                     17.5         1.160386e+07   \n",
       "4769                      7.0                     22.8         2.634333e+07   \n",
       "4840                     17.0                     17.1         1.020160e+07   \n",
       "5147                      6.0                     29.2         9.516540e+06   \n",
       "5523                     21.0                     35.5         2.137243e+07   \n",
       "5731                     10.0                     24.9         1.928043e+07   \n",
       "5950                     13.0                     21.0         1.151346e+07   \n",
       "5974                      8.0                     24.8         8.903180e+06   \n",
       "6265                     13.0                     22.8         9.167356e+06   \n",
       "6744                     15.0                     20.1         1.030907e+07   \n",
       "7026                     13.0                     25.3         2.640700e+07   \n",
       "\n",
       "      Number of Credit Problems  Months since last delinquent  Bankruptcies  \\\n",
       "44                          1.0                          35.0           0.0   \n",
       "85                          0.0                           NaN           0.0   \n",
       "354                         0.0                           NaN           0.0   \n",
       "617                         0.0                           NaN           0.0   \n",
       "1476                        0.0                           NaN           0.0   \n",
       "1879                        0.0                          35.0           0.0   \n",
       "2023                        0.0                           NaN           0.0   \n",
       "2036                        0.0                           NaN           0.0   \n",
       "2431                        0.0                          26.0           0.0   \n",
       "2468                        0.0                          24.0           0.0   \n",
       "2617                        0.0                           NaN           0.0   \n",
       "2763                        0.0                          59.0           0.0   \n",
       "3170                        0.0                           NaN           0.0   \n",
       "4072                        0.0                           NaN           0.0   \n",
       "4602                        0.0                           5.0           0.0   \n",
       "4745                        0.0                           NaN           0.0   \n",
       "4769                        0.0                           NaN           0.0   \n",
       "4840                        0.0                          21.0           0.0   \n",
       "5147                        0.0                           NaN           0.0   \n",
       "5523                        0.0                           0.0           0.0   \n",
       "5731                        0.0                           NaN           0.0   \n",
       "5950                        0.0                           NaN           0.0   \n",
       "5974                        0.0                           NaN           0.0   \n",
       "6265                        0.0                          41.0           0.0   \n",
       "6744                        0.0                           NaN           0.0   \n",
       "7026                        0.0                          50.0           0.0   \n",
       "\n",
       "                 Purpose        Term  Current Loan Amount  \\\n",
       "44           take a trip  Short Term              33110.0   \n",
       "85    debt consolidation  Short Term             592240.0   \n",
       "354   debt consolidation   Long Term             778624.0   \n",
       "617   debt consolidation  Short Term             529892.0   \n",
       "1476  debt consolidation  Short Term             656766.0   \n",
       "1879  debt consolidation  Short Term             197384.0   \n",
       "2023               other  Short Term             166826.0   \n",
       "2036       business loan   Long Term             335324.0   \n",
       "2431  debt consolidation  Short Term             350350.0   \n",
       "2468   home improvements   Long Term           99999999.0   \n",
       "2617               other  Short Term              50116.0   \n",
       "2763   home improvements  Short Term           99999999.0   \n",
       "3170           buy a car  Short Term             111892.0   \n",
       "4072  debt consolidation  Short Term             312004.0   \n",
       "4602   home improvements   Long Term             788788.0   \n",
       "4745  debt consolidation  Short Term             753588.0   \n",
       "4769   home improvements  Short Term             757834.0   \n",
       "4840  debt consolidation  Short Term           99999999.0   \n",
       "5147   home improvements  Short Term           99999999.0   \n",
       "5523               other   Long Term           99999999.0   \n",
       "5731  debt consolidation  Short Term           99999999.0   \n",
       "5950   home improvements   Long Term             267014.0   \n",
       "5974  debt consolidation   Long Term             559636.0   \n",
       "6265   home improvements  Short Term             769384.0   \n",
       "6744               other   Long Term             775082.0   \n",
       "7026   home improvements   Long Term           99999999.0   \n",
       "\n",
       "      Current Credit Balance  Monthly Debt  Credit Score  Credit Default  \n",
       "44                  656450.0       34357.0         729.0               0  \n",
       "85                  959899.0       16813.0         748.0               0  \n",
       "354                1019806.0       40227.0         697.0               0  \n",
       "617                1126814.0        5492.0           NaN               0  \n",
       "1476               1089802.0       16531.0           NaN               0  \n",
       "1879               1985462.0       14099.0         749.0               0  \n",
       "2023                944547.0        9176.0         749.0               0  \n",
       "2036               1413733.0        8709.0         748.0               0  \n",
       "2431               2024659.0       25880.0         747.0               0  \n",
       "2468               2315169.0       74991.0         735.0               0  \n",
       "2617               1834450.0       20272.0         750.0               0  \n",
       "2763               1908550.0        5770.0         743.0               0  \n",
       "3170               2355867.0       17123.0         750.0               0  \n",
       "4072               1392225.0       61278.0         744.0               0  \n",
       "4602               4367245.0       29792.0         687.0               0  \n",
       "4745               4720132.0      136679.0         745.0               0  \n",
       "4769               6506797.0       38023.0         703.0               0  \n",
       "4840               2784108.0       26298.0         735.0               0  \n",
       "5147                591755.0        3569.0         750.0               0  \n",
       "5523               1975012.0       12555.0         728.0               0  \n",
       "5731               1132286.0       17543.0         751.0               0  \n",
       "5950                835259.0       32636.0         738.0               0  \n",
       "5974               2875726.0       22210.0         745.0               0  \n",
       "6265               2240594.0       69413.0           NaN               0  \n",
       "6744               1006069.0       30481.0         728.0               0  \n",
       "7026               2440246.0       39196.0         745.0               0  "
      ]
     },
     "execution_count": 44,
     "metadata": {},
     "output_type": "execute_result"
    }
   ],
   "source": [
    "print(train[np.log1p(train['Maximum Open Credit']) > 16].shape[0])\n",
    "train[np.log1p(train['Maximum Open Credit']) > 16]"
   ]
  },
  {
   "cell_type": "code",
   "execution_count": 45,
   "metadata": {},
   "outputs": [
    {
     "name": "stdout",
     "output_type": "stream",
     "text": [
      "65\n"
     ]
    },
    {
     "data": {
      "text/html": [
       "<div>\n",
       "<style scoped>\n",
       "    .dataframe tbody tr th:only-of-type {\n",
       "        vertical-align: middle;\n",
       "    }\n",
       "\n",
       "    .dataframe tbody tr th {\n",
       "        vertical-align: top;\n",
       "    }\n",
       "\n",
       "    .dataframe thead th {\n",
       "        text-align: right;\n",
       "    }\n",
       "</style>\n",
       "<table border=\"1\" class=\"dataframe\">\n",
       "  <thead>\n",
       "    <tr style=\"text-align: right;\">\n",
       "      <th></th>\n",
       "      <th>Home Ownership</th>\n",
       "      <th>Annual Income</th>\n",
       "      <th>Years in current job</th>\n",
       "      <th>Tax Liens</th>\n",
       "      <th>Number of Open Accounts</th>\n",
       "      <th>Years of Credit History</th>\n",
       "      <th>Maximum Open Credit</th>\n",
       "      <th>Number of Credit Problems</th>\n",
       "      <th>Months since last delinquent</th>\n",
       "      <th>Bankruptcies</th>\n",
       "      <th>Purpose</th>\n",
       "      <th>Term</th>\n",
       "      <th>Current Loan Amount</th>\n",
       "      <th>Current Credit Balance</th>\n",
       "      <th>Monthly Debt</th>\n",
       "      <th>Credit Score</th>\n",
       "      <th>Credit Default</th>\n",
       "    </tr>\n",
       "  </thead>\n",
       "  <tbody>\n",
       "    <tr>\n",
       "      <th>8</th>\n",
       "      <td>Home Mortgage</td>\n",
       "      <td>NaN</td>\n",
       "      <td>5 years</td>\n",
       "      <td>0.0</td>\n",
       "      <td>17.0</td>\n",
       "      <td>15.7</td>\n",
       "      <td>0.0</td>\n",
       "      <td>1.0</td>\n",
       "      <td>NaN</td>\n",
       "      <td>1.0</td>\n",
       "      <td>home improvements</td>\n",
       "      <td>Short Term</td>\n",
       "      <td>129734.0</td>\n",
       "      <td>19.0</td>\n",
       "      <td>17.0</td>\n",
       "      <td>NaN</td>\n",
       "      <td>0</td>\n",
       "    </tr>\n",
       "    <tr>\n",
       "      <th>91</th>\n",
       "      <td>Rent</td>\n",
       "      <td>601369.0</td>\n",
       "      <td>10+ years</td>\n",
       "      <td>0.0</td>\n",
       "      <td>6.0</td>\n",
       "      <td>16.9</td>\n",
       "      <td>0.0</td>\n",
       "      <td>0.0</td>\n",
       "      <td>14.0</td>\n",
       "      <td>0.0</td>\n",
       "      <td>debt consolidation</td>\n",
       "      <td>Short Term</td>\n",
       "      <td>165924.0</td>\n",
       "      <td>0.0</td>\n",
       "      <td>9021.0</td>\n",
       "      <td>738.0</td>\n",
       "      <td>0</td>\n",
       "    </tr>\n",
       "    <tr>\n",
       "      <th>196</th>\n",
       "      <td>Rent</td>\n",
       "      <td>815157.0</td>\n",
       "      <td>7 years</td>\n",
       "      <td>0.0</td>\n",
       "      <td>3.0</td>\n",
       "      <td>8.8</td>\n",
       "      <td>0.0</td>\n",
       "      <td>0.0</td>\n",
       "      <td>NaN</td>\n",
       "      <td>0.0</td>\n",
       "      <td>small business</td>\n",
       "      <td>Short Term</td>\n",
       "      <td>218042.0</td>\n",
       "      <td>0.0</td>\n",
       "      <td>5855.0</td>\n",
       "      <td>738.0</td>\n",
       "      <td>0</td>\n",
       "    </tr>\n",
       "    <tr>\n",
       "      <th>294</th>\n",
       "      <td>Home Mortgage</td>\n",
       "      <td>2033931.0</td>\n",
       "      <td>7 years</td>\n",
       "      <td>0.0</td>\n",
       "      <td>6.0</td>\n",
       "      <td>21.1</td>\n",
       "      <td>0.0</td>\n",
       "      <td>0.0</td>\n",
       "      <td>NaN</td>\n",
       "      <td>0.0</td>\n",
       "      <td>home improvements</td>\n",
       "      <td>Short Term</td>\n",
       "      <td>108042.0</td>\n",
       "      <td>0.0</td>\n",
       "      <td>30340.0</td>\n",
       "      <td>742.0</td>\n",
       "      <td>0</td>\n",
       "    </tr>\n",
       "    <tr>\n",
       "      <th>309</th>\n",
       "      <td>Rent</td>\n",
       "      <td>1245792.0</td>\n",
       "      <td>3 years</td>\n",
       "      <td>0.0</td>\n",
       "      <td>5.0</td>\n",
       "      <td>22.4</td>\n",
       "      <td>0.0</td>\n",
       "      <td>0.0</td>\n",
       "      <td>58.0</td>\n",
       "      <td>0.0</td>\n",
       "      <td>major purchase</td>\n",
       "      <td>Long Term</td>\n",
       "      <td>338096.0</td>\n",
       "      <td>0.0</td>\n",
       "      <td>395.0</td>\n",
       "      <td>659.0</td>\n",
       "      <td>0</td>\n",
       "    </tr>\n",
       "  </tbody>\n",
       "</table>\n",
       "</div>"
      ],
      "text/plain": [
       "    Home Ownership  Annual Income Years in current job  Tax Liens  \\\n",
       "8    Home Mortgage            NaN              5 years        0.0   \n",
       "91            Rent       601369.0            10+ years        0.0   \n",
       "196           Rent       815157.0              7 years        0.0   \n",
       "294  Home Mortgage      2033931.0              7 years        0.0   \n",
       "309           Rent      1245792.0              3 years        0.0   \n",
       "\n",
       "     Number of Open Accounts  Years of Credit History  Maximum Open Credit  \\\n",
       "8                       17.0                     15.7                  0.0   \n",
       "91                       6.0                     16.9                  0.0   \n",
       "196                      3.0                      8.8                  0.0   \n",
       "294                      6.0                     21.1                  0.0   \n",
       "309                      5.0                     22.4                  0.0   \n",
       "\n",
       "     Number of Credit Problems  Months since last delinquent  Bankruptcies  \\\n",
       "8                          1.0                           NaN           1.0   \n",
       "91                         0.0                          14.0           0.0   \n",
       "196                        0.0                           NaN           0.0   \n",
       "294                        0.0                           NaN           0.0   \n",
       "309                        0.0                          58.0           0.0   \n",
       "\n",
       "                Purpose        Term  Current Loan Amount  \\\n",
       "8     home improvements  Short Term             129734.0   \n",
       "91   debt consolidation  Short Term             165924.0   \n",
       "196      small business  Short Term             218042.0   \n",
       "294   home improvements  Short Term             108042.0   \n",
       "309      major purchase   Long Term             338096.0   \n",
       "\n",
       "     Current Credit Balance  Monthly Debt  Credit Score  Credit Default  \n",
       "8                      19.0          17.0           NaN               0  \n",
       "91                      0.0        9021.0         738.0               0  \n",
       "196                     0.0        5855.0         738.0               0  \n",
       "294                     0.0       30340.0         742.0               0  \n",
       "309                     0.0         395.0         659.0               0  "
      ]
     },
     "execution_count": 45,
     "metadata": {},
     "output_type": "execute_result"
    }
   ],
   "source": [
    "print(train[np.log1p(train['Maximum Open Credit']) == 0].shape[0])\n",
    "train[np.log1p(train['Maximum Open Credit']) == 0].head()"
   ]
  },
  {
   "cell_type": "markdown",
   "metadata": {},
   "source": [
    "**Number of Credit Problems**"
   ]
  },
  {
   "cell_type": "code",
   "execution_count": 46,
   "metadata": {},
   "outputs": [
    {
     "data": {
      "image/png": "[encoded data removed]",
      "text/plain": [
       "<Figure size 432x288 with 1 Axes>"
      ]
     },
     "metadata": {
      "needs_background": "light"
     },
     "output_type": "display_data"
    }
   ],
   "source": [
    "sns.countplot(train['Number of Credit Problems'], hue=train['Credit Default'], log=True);"
   ]
  },
  {
   "cell_type": "code",
   "execution_count": 47,
   "metadata": {},
   "outputs": [
    {
     "data": {
      "text/plain": [
       "0.0    0.862533\n",
       "1.0    0.117600\n",
       "2.0    0.012400\n",
       "3.0    0.004667\n",
       "4.0    0.001200\n",
       "5.0    0.000933\n",
       "6.0    0.000533\n",
       "7.0    0.000133\n",
       "Name: Number of Credit Problems, dtype: float64"
      ]
     },
     "execution_count": 47,
     "metadata": {},
     "output_type": "execute_result"
    }
   ],
   "source": [
    "train['Number of Credit Problems'].value_counts(normalize=True)"
   ]
  },
  {
   "cell_type": "code",
   "execution_count": 48,
   "metadata": {},
   "outputs": [
    {
     "data": {
      "text/plain": [
       "Number of Credit Problems\n",
       "0.0    0.280569\n",
       "1.0    0.273243\n",
       "2.0    0.354839\n",
       "3.0    0.400000\n",
       "4.0    0.666667\n",
       "5.0    0.571429\n",
       "6.0    0.000000\n",
       "7.0    0.000000\n",
       "Name: Credit Default, dtype: float64"
      ]
     },
     "execution_count": 48,
     "metadata": {},
     "output_type": "execute_result"
    }
   ],
   "source": [
    "train.groupby(['Number of Credit Problems'])['Credit Default'].mean()"
   ]
  },
  {
   "cell_type": "markdown",
   "metadata": {},
   "source": [
    "**Months since last delinquent**"
   ]
  },
  {
   "cell_type": "code",
   "execution_count": 49,
   "metadata": {},
   "outputs": [
    {
     "data": {
      "image/png": "[encoded data removed]",
      "text/plain": [
       "<Figure size 432x288 with 1 Axes>"
      ]
     },
     "metadata": {
      "needs_background": "light"
     },
     "output_type": "display_data"
    }
   ],
   "source": [
    "sns.boxplot(x=train['Credit Default'], y=train['Months since last delinquent']);"
   ]
  },
  {
   "cell_type": "code",
   "execution_count": 50,
   "metadata": {},
   "outputs": [
    {
     "name": "stdout",
     "output_type": "stream",
     "text": [
      "1\n"
     ]
    },
    {
     "data": {
      "text/html": [
       "<div>\n",
       "<style scoped>\n",
       "    .dataframe tbody tr th:only-of-type {\n",
       "        vertical-align: middle;\n",
       "    }\n",
       "\n",
       "    .dataframe tbody tr th {\n",
       "        vertical-align: top;\n",
       "    }\n",
       "\n",
       "    .dataframe thead th {\n",
       "        text-align: right;\n",
       "    }\n",
       "</style>\n",
       "<table border=\"1\" class=\"dataframe\">\n",
       "  <thead>\n",
       "    <tr style=\"text-align: right;\">\n",
       "      <th></th>\n",
       "      <th>Home Ownership</th>\n",
       "      <th>Annual Income</th>\n",
       "      <th>Years in current job</th>\n",
       "      <th>Tax Liens</th>\n",
       "      <th>Number of Open Accounts</th>\n",
       "      <th>Years of Credit History</th>\n",
       "      <th>Maximum Open Credit</th>\n",
       "      <th>Number of Credit Problems</th>\n",
       "      <th>Months since last delinquent</th>\n",
       "      <th>Bankruptcies</th>\n",
       "      <th>Purpose</th>\n",
       "      <th>Term</th>\n",
       "      <th>Current Loan Amount</th>\n",
       "      <th>Current Credit Balance</th>\n",
       "      <th>Monthly Debt</th>\n",
       "      <th>Credit Score</th>\n",
       "      <th>Credit Default</th>\n",
       "    </tr>\n",
       "  </thead>\n",
       "  <tbody>\n",
       "    <tr>\n",
       "      <th>4191</th>\n",
       "      <td>Home Mortgage</td>\n",
       "      <td>3009201.0</td>\n",
       "      <td>6 years</td>\n",
       "      <td>0.0</td>\n",
       "      <td>10.0</td>\n",
       "      <td>20.8</td>\n",
       "      <td>773322.0</td>\n",
       "      <td>0.0</td>\n",
       "      <td>118.0</td>\n",
       "      <td>0.0</td>\n",
       "      <td>debt consolidation</td>\n",
       "      <td>Short Term</td>\n",
       "      <td>449592.0</td>\n",
       "      <td>299877.0</td>\n",
       "      <td>15297.0</td>\n",
       "      <td>738.0</td>\n",
       "      <td>0</td>\n",
       "    </tr>\n",
       "  </tbody>\n",
       "</table>\n",
       "</div>"
      ],
      "text/plain": [
       "     Home Ownership  Annual Income Years in current job  Tax Liens  \\\n",
       "4191  Home Mortgage      3009201.0              6 years        0.0   \n",
       "\n",
       "      Number of Open Accounts  Years of Credit History  Maximum Open Credit  \\\n",
       "4191                     10.0                     20.8             773322.0   \n",
       "\n",
       "      Number of Credit Problems  Months since last delinquent  Bankruptcies  \\\n",
       "4191                        0.0                         118.0           0.0   \n",
       "\n",
       "                 Purpose        Term  Current Loan Amount  \\\n",
       "4191  debt consolidation  Short Term             449592.0   \n",
       "\n",
       "      Current Credit Balance  Monthly Debt  Credit Score  Credit Default  \n",
       "4191                299877.0       15297.0         738.0               0  "
      ]
     },
     "execution_count": 50,
     "metadata": {},
     "output_type": "execute_result"
    }
   ],
   "source": [
    "print(train[train['Months since last delinquent'] > 100].shape[0])\n",
    "train[train['Months since last delinquent'] > 100].head()"
   ]
  },
  {
   "cell_type": "markdown",
   "metadata": {},
   "source": [
    "**Bankruptcies**"
   ]
  },
  {
   "cell_type": "code",
   "execution_count": 51,
   "metadata": {},
   "outputs": [
    {
     "data": {
      "image/png": "[encoded data removed]",
      "text/plain": [
       "<Figure size 432x288 with 1 Axes>"
      ]
     },
     "metadata": {
      "needs_background": "light"
     },
     "output_type": "display_data"
    }
   ],
   "source": [
    "sns.countplot(train['Bankruptcies'].fillna(-1), hue=train['Credit Default']);"
   ]
  },
  {
   "cell_type": "code",
   "execution_count": 52,
   "metadata": {},
   "outputs": [
    {
     "data": {
      "text/plain": [
       " 0.0    0.888000\n",
       " 1.0    0.104800\n",
       " 2.0    0.004133\n",
       "-1.0    0.001867\n",
       " 3.0    0.000933\n",
       " 4.0    0.000267\n",
       "Name: Bankruptcies, dtype: float64"
      ]
     },
     "execution_count": 52,
     "metadata": {},
     "output_type": "execute_result"
    }
   ],
   "source": [
    "train['Bankruptcies'].fillna(-1).value_counts(normalize=True)"
   ]
  },
  {
   "cell_type": "code",
   "execution_count": 53,
   "metadata": {},
   "outputs": [
    {
     "data": {
      "text/plain": [
       "Bankruptcies\n",
       "-1.0    0.285714\n",
       " 0.0    0.281982\n",
       " 1.0    0.276081\n",
       " 2.0    0.354839\n",
       " 3.0    0.285714\n",
       " 4.0    0.500000\n",
       "Name: Credit Default, dtype: float64"
      ]
     },
     "execution_count": 53,
     "metadata": {},
     "output_type": "execute_result"
    }
   ],
   "source": [
    "train.groupby(train['Bankruptcies'].fillna(-1))['Credit Default'].mean()"
   ]
  },
  {
   "cell_type": "markdown",
   "metadata": {},
   "source": [
    "**Purpose**"
   ]
  },
  {
   "cell_type": "code",
   "execution_count": 54,
   "metadata": {},
   "outputs": [
    {
     "data": {
      "image/png": "[encoded data removed]",
      "text/plain": [
       "<Figure size 432x288 with 1 Axes>"
      ]
     },
     "metadata": {
      "needs_background": "light"
     },
     "output_type": "display_data"
    }
   ],
   "source": [
    "sns.countplot(train['Purpose'], hue=train['Credit Default']);"
   ]
  },
  {
   "cell_type": "code",
   "execution_count": 55,
   "metadata": {},
   "outputs": [
    {
     "data": {
      "text/plain": [
       "debt consolidation      0.792533\n",
       "other                   0.088667\n",
       "home improvements       0.054933\n",
       "business loan           0.017200\n",
       "buy a car               0.012800\n",
       "medical bills           0.009467\n",
       "major purchase          0.005333\n",
       "take a trip             0.004933\n",
       "buy house               0.004533\n",
       "small business          0.003467\n",
       "wedding                 0.002000\n",
       "moving                  0.001467\n",
       "educational expenses    0.001333\n",
       "vacation                0.001067\n",
       "renewable energy        0.000267\n",
       "Name: Purpose, dtype: float64"
      ]
     },
     "execution_count": 55,
     "metadata": {},
     "output_type": "execute_result"
    }
   ],
   "source": [
    "train['Purpose'].value_counts(normalize=True)"
   ]
  },
  {
   "cell_type": "code",
   "execution_count": 56,
   "metadata": {},
   "outputs": [
    {
     "data": {
      "text/plain": [
       "Purpose\n",
       "business loan           0.426357\n",
       "buy a car               0.250000\n",
       "buy house               0.264706\n",
       "debt consolidation      0.278264\n",
       "educational expenses    0.100000\n",
       "home improvements       0.262136\n",
       "major purchase          0.225000\n",
       "medical bills           0.309859\n",
       "moving                  0.181818\n",
       "other                   0.296241\n",
       "renewable energy        1.000000\n",
       "small business          0.538462\n",
       "take a trip             0.270270\n",
       "vacation                0.250000\n",
       "wedding                 0.266667\n",
       "Name: Credit Default, dtype: float64"
      ]
     },
     "execution_count": 56,
     "metadata": {},
     "output_type": "execute_result"
    }
   ],
   "source": [
    "train.groupby(['Purpose'])['Credit Default'].mean()"
   ]
  },
  {
   "cell_type": "markdown",
   "metadata": {},
   "source": [
    "**Term**"
   ]
  },
  {
   "cell_type": "code",
   "execution_count": 57,
   "metadata": {},
   "outputs": [
    {
     "data": {
      "text/plain": [
       "Short Term    0.7408\n",
       "Long Term     0.2592\n",
       "Name: Term, dtype: float64"
      ]
     },
     "execution_count": 57,
     "metadata": {},
     "output_type": "execute_result"
    }
   ],
   "source": [
    "train['Term'].value_counts(normalize=True)"
   ]
  },
  {
   "cell_type": "code",
   "execution_count": 58,
   "metadata": {},
   "outputs": [
    {
     "data": {
      "text/plain": [
       "Term\n",
       "Long Term     0.419753\n",
       "Short Term    0.233441\n",
       "Name: Credit Default, dtype: float64"
      ]
     },
     "execution_count": 58,
     "metadata": {},
     "output_type": "execute_result"
    }
   ],
   "source": [
    "train.groupby(['Term'])['Credit Default'].mean()"
   ]
  },
  {
   "cell_type": "markdown",
   "metadata": {},
   "source": [
    "**Current Loan Amount**"
   ]
  },
  {
   "cell_type": "code",
   "execution_count": 59,
   "metadata": {},
   "outputs": [
    {
     "data": {
      "image/png": "[encoded data removed]",
      "text/plain": [
       "<Figure size 432x288 with 1 Axes>"
      ]
     },
     "metadata": {
      "needs_background": "light"
     },
     "output_type": "display_data"
    }
   ],
   "source": [
    "sns.boxplot(x=train['Credit Default'], y=np.log1p(train['Current Loan Amount']));"
   ]
  },
  {
   "cell_type": "code",
   "execution_count": 60,
   "metadata": {},
   "outputs": [
    {
     "name": "stdout",
     "output_type": "stream",
     "text": [
      "870\n"
     ]
    },
    {
     "data": {
      "text/html": [
       "<div>\n",
       "<style scoped>\n",
       "    .dataframe tbody tr th:only-of-type {\n",
       "        vertical-align: middle;\n",
       "    }\n",
       "\n",
       "    .dataframe tbody tr th {\n",
       "        vertical-align: top;\n",
       "    }\n",
       "\n",
       "    .dataframe thead th {\n",
       "        text-align: right;\n",
       "    }\n",
       "</style>\n",
       "<table border=\"1\" class=\"dataframe\">\n",
       "  <thead>\n",
       "    <tr style=\"text-align: right;\">\n",
       "      <th></th>\n",
       "      <th>Home Ownership</th>\n",
       "      <th>Annual Income</th>\n",
       "      <th>Years in current job</th>\n",
       "      <th>Tax Liens</th>\n",
       "      <th>Number of Open Accounts</th>\n",
       "      <th>Years of Credit History</th>\n",
       "      <th>Maximum Open Credit</th>\n",
       "      <th>Number of Credit Problems</th>\n",
       "      <th>Months since last delinquent</th>\n",
       "      <th>Bankruptcies</th>\n",
       "      <th>Purpose</th>\n",
       "      <th>Term</th>\n",
       "      <th>Current Loan Amount</th>\n",
       "      <th>Current Credit Balance</th>\n",
       "      <th>Monthly Debt</th>\n",
       "      <th>Credit Score</th>\n",
       "      <th>Credit Default</th>\n",
       "    </tr>\n",
       "  </thead>\n",
       "  <tbody>\n",
       "    <tr>\n",
       "      <th>0</th>\n",
       "      <td>Own Home</td>\n",
       "      <td>482087.0</td>\n",
       "      <td>10+ years</td>\n",
       "      <td>0.0</td>\n",
       "      <td>11.0</td>\n",
       "      <td>26.3</td>\n",
       "      <td>685960.0</td>\n",
       "      <td>1.0</td>\n",
       "      <td>NaN</td>\n",
       "      <td>1.0</td>\n",
       "      <td>debt consolidation</td>\n",
       "      <td>Short Term</td>\n",
       "      <td>99999999.0</td>\n",
       "      <td>47386.0</td>\n",
       "      <td>7914.0</td>\n",
       "      <td>749.0</td>\n",
       "      <td>0</td>\n",
       "    </tr>\n",
       "    <tr>\n",
       "      <th>2</th>\n",
       "      <td>Home Mortgage</td>\n",
       "      <td>751412.0</td>\n",
       "      <td>8 years</td>\n",
       "      <td>0.0</td>\n",
       "      <td>11.0</td>\n",
       "      <td>35.0</td>\n",
       "      <td>1182434.0</td>\n",
       "      <td>0.0</td>\n",
       "      <td>NaN</td>\n",
       "      <td>0.0</td>\n",
       "      <td>debt consolidation</td>\n",
       "      <td>Short Term</td>\n",
       "      <td>99999999.0</td>\n",
       "      <td>308389.0</td>\n",
       "      <td>13651.0</td>\n",
       "      <td>742.0</td>\n",
       "      <td>0</td>\n",
       "    </tr>\n",
       "    <tr>\n",
       "      <th>6</th>\n",
       "      <td>Home Mortgage</td>\n",
       "      <td>1511108.0</td>\n",
       "      <td>10+ years</td>\n",
       "      <td>0.0</td>\n",
       "      <td>9.0</td>\n",
       "      <td>20.3</td>\n",
       "      <td>388124.0</td>\n",
       "      <td>0.0</td>\n",
       "      <td>73.0</td>\n",
       "      <td>0.0</td>\n",
       "      <td>home improvements</td>\n",
       "      <td>Short Term</td>\n",
       "      <td>99999999.0</td>\n",
       "      <td>51623.0</td>\n",
       "      <td>2317.0</td>\n",
       "      <td>745.0</td>\n",
       "      <td>0</td>\n",
       "    </tr>\n",
       "    <tr>\n",
       "      <th>22</th>\n",
       "      <td>Rent</td>\n",
       "      <td>463790.0</td>\n",
       "      <td>10+ years</td>\n",
       "      <td>0.0</td>\n",
       "      <td>6.0</td>\n",
       "      <td>28.3</td>\n",
       "      <td>288442.0</td>\n",
       "      <td>0.0</td>\n",
       "      <td>NaN</td>\n",
       "      <td>0.0</td>\n",
       "      <td>debt consolidation</td>\n",
       "      <td>Short Term</td>\n",
       "      <td>99999999.0</td>\n",
       "      <td>157700.0</td>\n",
       "      <td>5063.0</td>\n",
       "      <td>738.0</td>\n",
       "      <td>0</td>\n",
       "    </tr>\n",
       "    <tr>\n",
       "      <th>27</th>\n",
       "      <td>Rent</td>\n",
       "      <td>1004055.0</td>\n",
       "      <td>8 years</td>\n",
       "      <td>0.0</td>\n",
       "      <td>7.0</td>\n",
       "      <td>14.5</td>\n",
       "      <td>328394.0</td>\n",
       "      <td>0.0</td>\n",
       "      <td>NaN</td>\n",
       "      <td>0.0</td>\n",
       "      <td>debt consolidation</td>\n",
       "      <td>Short Term</td>\n",
       "      <td>99999999.0</td>\n",
       "      <td>195966.0</td>\n",
       "      <td>6041.0</td>\n",
       "      <td>734.0</td>\n",
       "      <td>0</td>\n",
       "    </tr>\n",
       "  </tbody>\n",
       "</table>\n",
       "</div>"
      ],
      "text/plain": [
       "   Home Ownership  Annual Income Years in current job  Tax Liens  \\\n",
       "0        Own Home       482087.0            10+ years        0.0   \n",
       "2   Home Mortgage       751412.0              8 years        0.0   \n",
       "6   Home Mortgage      1511108.0            10+ years        0.0   \n",
       "22           Rent       463790.0            10+ years        0.0   \n",
       "27           Rent      1004055.0              8 years        0.0   \n",
       "\n",
       "    Number of Open Accounts  Years of Credit History  Maximum Open Credit  \\\n",
       "0                      11.0                     26.3             685960.0   \n",
       "2                      11.0                     35.0            1182434.0   \n",
       "6                       9.0                     20.3             388124.0   \n",
       "22                      6.0                     28.3             288442.0   \n",
       "27                      7.0                     14.5             328394.0   \n",
       "\n",
       "    Number of Credit Problems  Months since last delinquent  Bankruptcies  \\\n",
       "0                         1.0                           NaN           1.0   \n",
       "2                         0.0                           NaN           0.0   \n",
       "6                         0.0                          73.0           0.0   \n",
       "22                        0.0                           NaN           0.0   \n",
       "27                        0.0                           NaN           0.0   \n",
       "\n",
       "               Purpose        Term  Current Loan Amount  \\\n",
       "0   debt consolidation  Short Term           99999999.0   \n",
       "2   debt consolidation  Short Term           99999999.0   \n",
       "6    home improvements  Short Term           99999999.0   \n",
       "22  debt consolidation  Short Term           99999999.0   \n",
       "27  debt consolidation  Short Term           99999999.0   \n",
       "\n",
       "    Current Credit Balance  Monthly Debt  Credit Score  Credit Default  \n",
       "0                  47386.0        7914.0         749.0               0  \n",
       "2                 308389.0       13651.0         742.0               0  \n",
       "6                  51623.0        2317.0         745.0               0  \n",
       "22                157700.0        5063.0         738.0               0  \n",
       "27                195966.0        6041.0         734.0               0  "
      ]
     },
     "execution_count": 60,
     "metadata": {},
     "output_type": "execute_result"
    }
   ],
   "source": [
    "print(train[np.log1p(train['Current Loan Amount']) > 14].shape[0])\n",
    "train[np.log1p(train['Current Loan Amount']) > 14].head()"
   ]
  },
  {
   "cell_type": "markdown",
   "metadata": {},
   "source": [
    "**Current Credit Balance**"
   ]
  },
  {
   "cell_type": "code",
   "execution_count": 61,
   "metadata": {},
   "outputs": [
    {
     "data": {
      "image/png": "[encoded data removed]",
      "text/plain": [
       "<Figure size 432x288 with 1 Axes>"
      ]
     },
     "metadata": {
      "needs_background": "light"
     },
     "output_type": "display_data"
    }
   ],
   "source": [
    "sns.boxplot(x=train['Credit Default'], y=np.log1p(train['Current Credit Balance']));"
   ]
  },
  {
   "cell_type": "code",
   "execution_count": 62,
   "metadata": {},
   "outputs": [
    {
     "name": "stdout",
     "output_type": "stream",
     "text": [
      "53\n"
     ]
    },
    {
     "data": {
      "text/html": [
       "<div>\n",
       "<style scoped>\n",
       "    .dataframe tbody tr th:only-of-type {\n",
       "        vertical-align: middle;\n",
       "    }\n",
       "\n",
       "    .dataframe tbody tr th {\n",
       "        vertical-align: top;\n",
       "    }\n",
       "\n",
       "    .dataframe thead th {\n",
       "        text-align: right;\n",
       "    }\n",
       "</style>\n",
       "<table border=\"1\" class=\"dataframe\">\n",
       "  <thead>\n",
       "    <tr style=\"text-align: right;\">\n",
       "      <th></th>\n",
       "      <th>Home Ownership</th>\n",
       "      <th>Annual Income</th>\n",
       "      <th>Years in current job</th>\n",
       "      <th>Tax Liens</th>\n",
       "      <th>Number of Open Accounts</th>\n",
       "      <th>Years of Credit History</th>\n",
       "      <th>Maximum Open Credit</th>\n",
       "      <th>Number of Credit Problems</th>\n",
       "      <th>Months since last delinquent</th>\n",
       "      <th>Bankruptcies</th>\n",
       "      <th>Purpose</th>\n",
       "      <th>Term</th>\n",
       "      <th>Current Loan Amount</th>\n",
       "      <th>Current Credit Balance</th>\n",
       "      <th>Monthly Debt</th>\n",
       "      <th>Credit Score</th>\n",
       "      <th>Credit Default</th>\n",
       "    </tr>\n",
       "  </thead>\n",
       "  <tbody>\n",
       "    <tr>\n",
       "      <th>91</th>\n",
       "      <td>Rent</td>\n",
       "      <td>601369.0</td>\n",
       "      <td>10+ years</td>\n",
       "      <td>0.0</td>\n",
       "      <td>6.0</td>\n",
       "      <td>16.9</td>\n",
       "      <td>0.0</td>\n",
       "      <td>0.0</td>\n",
       "      <td>14.0</td>\n",
       "      <td>0.0</td>\n",
       "      <td>debt consolidation</td>\n",
       "      <td>Short Term</td>\n",
       "      <td>165924.0</td>\n",
       "      <td>0.0</td>\n",
       "      <td>9021.0</td>\n",
       "      <td>738.0</td>\n",
       "      <td>0</td>\n",
       "    </tr>\n",
       "    <tr>\n",
       "      <th>196</th>\n",
       "      <td>Rent</td>\n",
       "      <td>815157.0</td>\n",
       "      <td>7 years</td>\n",
       "      <td>0.0</td>\n",
       "      <td>3.0</td>\n",
       "      <td>8.8</td>\n",
       "      <td>0.0</td>\n",
       "      <td>0.0</td>\n",
       "      <td>NaN</td>\n",
       "      <td>0.0</td>\n",
       "      <td>small business</td>\n",
       "      <td>Short Term</td>\n",
       "      <td>218042.0</td>\n",
       "      <td>0.0</td>\n",
       "      <td>5855.0</td>\n",
       "      <td>738.0</td>\n",
       "      <td>0</td>\n",
       "    </tr>\n",
       "    <tr>\n",
       "      <th>294</th>\n",
       "      <td>Home Mortgage</td>\n",
       "      <td>2033931.0</td>\n",
       "      <td>7 years</td>\n",
       "      <td>0.0</td>\n",
       "      <td>6.0</td>\n",
       "      <td>21.1</td>\n",
       "      <td>0.0</td>\n",
       "      <td>0.0</td>\n",
       "      <td>NaN</td>\n",
       "      <td>0.0</td>\n",
       "      <td>home improvements</td>\n",
       "      <td>Short Term</td>\n",
       "      <td>108042.0</td>\n",
       "      <td>0.0</td>\n",
       "      <td>30340.0</td>\n",
       "      <td>742.0</td>\n",
       "      <td>0</td>\n",
       "    </tr>\n",
       "    <tr>\n",
       "      <th>309</th>\n",
       "      <td>Rent</td>\n",
       "      <td>1245792.0</td>\n",
       "      <td>3 years</td>\n",
       "      <td>0.0</td>\n",
       "      <td>5.0</td>\n",
       "      <td>22.4</td>\n",
       "      <td>0.0</td>\n",
       "      <td>0.0</td>\n",
       "      <td>58.0</td>\n",
       "      <td>0.0</td>\n",
       "      <td>major purchase</td>\n",
       "      <td>Long Term</td>\n",
       "      <td>338096.0</td>\n",
       "      <td>0.0</td>\n",
       "      <td>395.0</td>\n",
       "      <td>659.0</td>\n",
       "      <td>0</td>\n",
       "    </tr>\n",
       "    <tr>\n",
       "      <th>319</th>\n",
       "      <td>Own Home</td>\n",
       "      <td>NaN</td>\n",
       "      <td>&lt; 1 year</td>\n",
       "      <td>0.0</td>\n",
       "      <td>2.0</td>\n",
       "      <td>10.5</td>\n",
       "      <td>0.0</td>\n",
       "      <td>0.0</td>\n",
       "      <td>NaN</td>\n",
       "      <td>0.0</td>\n",
       "      <td>business loan</td>\n",
       "      <td>Short Term</td>\n",
       "      <td>76670.0</td>\n",
       "      <td>0.0</td>\n",
       "      <td>6432.0</td>\n",
       "      <td>NaN</td>\n",
       "      <td>0</td>\n",
       "    </tr>\n",
       "  </tbody>\n",
       "</table>\n",
       "</div>"
      ],
      "text/plain": [
       "    Home Ownership  Annual Income Years in current job  Tax Liens  \\\n",
       "91            Rent       601369.0            10+ years        0.0   \n",
       "196           Rent       815157.0              7 years        0.0   \n",
       "294  Home Mortgage      2033931.0              7 years        0.0   \n",
       "309           Rent      1245792.0              3 years        0.0   \n",
       "319       Own Home            NaN             < 1 year        0.0   \n",
       "\n",
       "     Number of Open Accounts  Years of Credit History  Maximum Open Credit  \\\n",
       "91                       6.0                     16.9                  0.0   \n",
       "196                      3.0                      8.8                  0.0   \n",
       "294                      6.0                     21.1                  0.0   \n",
       "309                      5.0                     22.4                  0.0   \n",
       "319                      2.0                     10.5                  0.0   \n",
       "\n",
       "     Number of Credit Problems  Months since last delinquent  Bankruptcies  \\\n",
       "91                         0.0                          14.0           0.0   \n",
       "196                        0.0                           NaN           0.0   \n",
       "294                        0.0                           NaN           0.0   \n",
       "309                        0.0                          58.0           0.0   \n",
       "319                        0.0                           NaN           0.0   \n",
       "\n",
       "                Purpose        Term  Current Loan Amount  \\\n",
       "91   debt consolidation  Short Term             165924.0   \n",
       "196      small business  Short Term             218042.0   \n",
       "294   home improvements  Short Term             108042.0   \n",
       "309      major purchase   Long Term             338096.0   \n",
       "319       business loan  Short Term              76670.0   \n",
       "\n",
       "     Current Credit Balance  Monthly Debt  Credit Score  Credit Default  \n",
       "91                      0.0        9021.0         738.0               0  \n",
       "196                     0.0        5855.0         738.0               0  \n",
       "294                     0.0       30340.0         742.0               0  \n",
       "309                     0.0         395.0         659.0               0  \n",
       "319                     0.0        6432.0           NaN               0  "
      ]
     },
     "execution_count": 62,
     "metadata": {},
     "output_type": "execute_result"
    }
   ],
   "source": [
    "print(train[np.log1p(train['Current Credit Balance']) == 0].shape[0])\n",
    "train[np.log1p(train['Current Credit Balance']) == 0].head()"
   ]
  },
  {
   "cell_type": "markdown",
   "metadata": {},
   "source": [
    "**Monthly Debt**"
   ]
  },
  {
   "cell_type": "code",
   "execution_count": 63,
   "metadata": {},
   "outputs": [
    {
     "data": {
      "image/png": "[encoded data removed]",
      "text/plain": [
       "<Figure size 432x288 with 1 Axes>"
      ]
     },
     "metadata": {
      "needs_background": "light"
     },
     "output_type": "display_data"
    }
   ],
   "source": [
    "sns.boxplot(x=train['Credit Default'], y=(train['Monthly Debt']));"
   ]
  },
  {
   "cell_type": "code",
   "execution_count": 64,
   "metadata": {},
   "outputs": [
    {
     "name": "stdout",
     "output_type": "stream",
     "text": [
      "1\n"
     ]
    },
    {
     "data": {
      "text/html": [
       "<div>\n",
       "<style scoped>\n",
       "    .dataframe tbody tr th:only-of-type {\n",
       "        vertical-align: middle;\n",
       "    }\n",
       "\n",
       "    .dataframe tbody tr th {\n",
       "        vertical-align: top;\n",
       "    }\n",
       "\n",
       "    .dataframe thead th {\n",
       "        text-align: right;\n",
       "    }\n",
       "</style>\n",
       "<table border=\"1\" class=\"dataframe\">\n",
       "  <thead>\n",
       "    <tr style=\"text-align: right;\">\n",
       "      <th></th>\n",
       "      <th>Home Ownership</th>\n",
       "      <th>Annual Income</th>\n",
       "      <th>Years in current job</th>\n",
       "      <th>Tax Liens</th>\n",
       "      <th>Number of Open Accounts</th>\n",
       "      <th>Years of Credit History</th>\n",
       "      <th>Maximum Open Credit</th>\n",
       "      <th>Number of Credit Problems</th>\n",
       "      <th>Months since last delinquent</th>\n",
       "      <th>Bankruptcies</th>\n",
       "      <th>Purpose</th>\n",
       "      <th>Term</th>\n",
       "      <th>Current Loan Amount</th>\n",
       "      <th>Current Credit Balance</th>\n",
       "      <th>Monthly Debt</th>\n",
       "      <th>Credit Score</th>\n",
       "      <th>Credit Default</th>\n",
       "    </tr>\n",
       "  </thead>\n",
       "  <tbody>\n",
       "    <tr>\n",
       "      <th>4745</th>\n",
       "      <td>Own Home</td>\n",
       "      <td>6029954.0</td>\n",
       "      <td>4 years</td>\n",
       "      <td>0.0</td>\n",
       "      <td>30.0</td>\n",
       "      <td>17.5</td>\n",
       "      <td>11603856.0</td>\n",
       "      <td>0.0</td>\n",
       "      <td>NaN</td>\n",
       "      <td>0.0</td>\n",
       "      <td>debt consolidation</td>\n",
       "      <td>Short Term</td>\n",
       "      <td>753588.0</td>\n",
       "      <td>4720132.0</td>\n",
       "      <td>136679.0</td>\n",
       "      <td>745.0</td>\n",
       "      <td>0</td>\n",
       "    </tr>\n",
       "  </tbody>\n",
       "</table>\n",
       "</div>"
      ],
      "text/plain": [
       "     Home Ownership  Annual Income Years in current job  Tax Liens  \\\n",
       "4745       Own Home      6029954.0              4 years        0.0   \n",
       "\n",
       "      Number of Open Accounts  Years of Credit History  Maximum Open Credit  \\\n",
       "4745                     30.0                     17.5           11603856.0   \n",
       "\n",
       "      Number of Credit Problems  Months since last delinquent  Bankruptcies  \\\n",
       "4745                        0.0                           NaN           0.0   \n",
       "\n",
       "                 Purpose        Term  Current Loan Amount  \\\n",
       "4745  debt consolidation  Short Term             753588.0   \n",
       "\n",
       "      Current Credit Balance  Monthly Debt  Credit Score  Credit Default  \n",
       "4745               4720132.0      136679.0         745.0               0  "
      ]
     },
     "execution_count": 64,
     "metadata": {},
     "output_type": "execute_result"
    }
   ],
   "source": [
    "print(train[train['Monthly Debt'] > 120000].shape[0])\n",
    "train[train['Monthly Debt'] > 120000].head()"
   ]
  },
  {
   "cell_type": "markdown",
   "metadata": {},
   "source": [
    "**Credit Score**"
   ]
  },
  {
   "cell_type": "code",
   "execution_count": 65,
   "metadata": {},
   "outputs": [
    {
     "data": {
      "image/png": "[encoded data removed]",
      "text/plain": [
       "<Figure size 432x288 with 1 Axes>"
      ]
     },
     "metadata": {
      "needs_background": "light"
     },
     "output_type": "display_data"
    }
   ],
   "source": [
    "sns.boxplot(x=train['Credit Default'], y=(train['Credit Score']));"
   ]
  },
  {
   "cell_type": "code",
   "execution_count": 66,
   "metadata": {},
   "outputs": [
    {
     "name": "stdout",
     "output_type": "stream",
     "text": [
      "400\n"
     ]
    },
    {
     "data": {
      "text/html": [
       "<div>\n",
       "<style scoped>\n",
       "    .dataframe tbody tr th:only-of-type {\n",
       "        vertical-align: middle;\n",
       "    }\n",
       "\n",
       "    .dataframe tbody tr th {\n",
       "        vertical-align: top;\n",
       "    }\n",
       "\n",
       "    .dataframe thead th {\n",
       "        text-align: right;\n",
       "    }\n",
       "</style>\n",
       "<table border=\"1\" class=\"dataframe\">\n",
       "  <thead>\n",
       "    <tr style=\"text-align: right;\">\n",
       "      <th></th>\n",
       "      <th>Home Ownership</th>\n",
       "      <th>Annual Income</th>\n",
       "      <th>Years in current job</th>\n",
       "      <th>Tax Liens</th>\n",
       "      <th>Number of Open Accounts</th>\n",
       "      <th>Years of Credit History</th>\n",
       "      <th>Maximum Open Credit</th>\n",
       "      <th>Number of Credit Problems</th>\n",
       "      <th>Months since last delinquent</th>\n",
       "      <th>Bankruptcies</th>\n",
       "      <th>Purpose</th>\n",
       "      <th>Term</th>\n",
       "      <th>Current Loan Amount</th>\n",
       "      <th>Current Credit Balance</th>\n",
       "      <th>Monthly Debt</th>\n",
       "      <th>Credit Score</th>\n",
       "      <th>Credit Default</th>\n",
       "    </tr>\n",
       "  </thead>\n",
       "  <tbody>\n",
       "    <tr>\n",
       "      <th>69</th>\n",
       "      <td>Home Mortgage</td>\n",
       "      <td>1408527.0</td>\n",
       "      <td>2 years</td>\n",
       "      <td>0.0</td>\n",
       "      <td>12.0</td>\n",
       "      <td>17.5</td>\n",
       "      <td>700062.0</td>\n",
       "      <td>0.0</td>\n",
       "      <td>21.0</td>\n",
       "      <td>0.0</td>\n",
       "      <td>other</td>\n",
       "      <td>Long Term</td>\n",
       "      <td>525998.0</td>\n",
       "      <td>174135.0</td>\n",
       "      <td>9320.0</td>\n",
       "      <td>6470.0</td>\n",
       "      <td>1</td>\n",
       "    </tr>\n",
       "    <tr>\n",
       "      <th>87</th>\n",
       "      <td>Home Mortgage</td>\n",
       "      <td>1533566.0</td>\n",
       "      <td>7 years</td>\n",
       "      <td>0.0</td>\n",
       "      <td>11.0</td>\n",
       "      <td>14.8</td>\n",
       "      <td>715462.0</td>\n",
       "      <td>0.0</td>\n",
       "      <td>19.0</td>\n",
       "      <td>0.0</td>\n",
       "      <td>debt consolidation</td>\n",
       "      <td>Short Term</td>\n",
       "      <td>210826.0</td>\n",
       "      <td>285475.0</td>\n",
       "      <td>18147.0</td>\n",
       "      <td>7440.0</td>\n",
       "      <td>1</td>\n",
       "    </tr>\n",
       "    <tr>\n",
       "      <th>94</th>\n",
       "      <td>Rent</td>\n",
       "      <td>1049294.0</td>\n",
       "      <td>3 years</td>\n",
       "      <td>0.0</td>\n",
       "      <td>5.0</td>\n",
       "      <td>6.1</td>\n",
       "      <td>249810.0</td>\n",
       "      <td>0.0</td>\n",
       "      <td>NaN</td>\n",
       "      <td>0.0</td>\n",
       "      <td>business loan</td>\n",
       "      <td>Short Term</td>\n",
       "      <td>337502.0</td>\n",
       "      <td>119529.0</td>\n",
       "      <td>15215.0</td>\n",
       "      <td>7010.0</td>\n",
       "      <td>1</td>\n",
       "    </tr>\n",
       "    <tr>\n",
       "      <th>96</th>\n",
       "      <td>Rent</td>\n",
       "      <td>757568.0</td>\n",
       "      <td>5 years</td>\n",
       "      <td>0.0</td>\n",
       "      <td>13.0</td>\n",
       "      <td>11.4</td>\n",
       "      <td>383548.0</td>\n",
       "      <td>0.0</td>\n",
       "      <td>NaN</td>\n",
       "      <td>0.0</td>\n",
       "      <td>debt consolidation</td>\n",
       "      <td>Short Term</td>\n",
       "      <td>210518.0</td>\n",
       "      <td>276583.0</td>\n",
       "      <td>11553.0</td>\n",
       "      <td>7320.0</td>\n",
       "      <td>1</td>\n",
       "    </tr>\n",
       "    <tr>\n",
       "      <th>116</th>\n",
       "      <td>Home Mortgage</td>\n",
       "      <td>1039984.0</td>\n",
       "      <td>10+ years</td>\n",
       "      <td>0.0</td>\n",
       "      <td>10.0</td>\n",
       "      <td>23.8</td>\n",
       "      <td>147950.0</td>\n",
       "      <td>0.0</td>\n",
       "      <td>63.0</td>\n",
       "      <td>0.0</td>\n",
       "      <td>debt consolidation</td>\n",
       "      <td>Short Term</td>\n",
       "      <td>224246.0</td>\n",
       "      <td>95456.0</td>\n",
       "      <td>13780.0</td>\n",
       "      <td>7390.0</td>\n",
       "      <td>1</td>\n",
       "    </tr>\n",
       "  </tbody>\n",
       "</table>\n",
       "</div>"
      ],
      "text/plain": [
       "    Home Ownership  Annual Income Years in current job  Tax Liens  \\\n",
       "69   Home Mortgage      1408527.0              2 years        0.0   \n",
       "87   Home Mortgage      1533566.0              7 years        0.0   \n",
       "94            Rent      1049294.0              3 years        0.0   \n",
       "96            Rent       757568.0              5 years        0.0   \n",
       "116  Home Mortgage      1039984.0            10+ years        0.0   \n",
       "\n",
       "     Number of Open Accounts  Years of Credit History  Maximum Open Credit  \\\n",
       "69                      12.0                     17.5             700062.0   \n",
       "87                      11.0                     14.8             715462.0   \n",
       "94                       5.0                      6.1             249810.0   \n",
       "96                      13.0                     11.4             383548.0   \n",
       "116                     10.0                     23.8             147950.0   \n",
       "\n",
       "     Number of Credit Problems  Months since last delinquent  Bankruptcies  \\\n",
       "69                         0.0                          21.0           0.0   \n",
       "87                         0.0                          19.0           0.0   \n",
       "94                         0.0                           NaN           0.0   \n",
       "96                         0.0                           NaN           0.0   \n",
       "116                        0.0                          63.0           0.0   \n",
       "\n",
       "                Purpose        Term  Current Loan Amount  \\\n",
       "69                other   Long Term             525998.0   \n",
       "87   debt consolidation  Short Term             210826.0   \n",
       "94        business loan  Short Term             337502.0   \n",
       "96   debt consolidation  Short Term             210518.0   \n",
       "116  debt consolidation  Short Term             224246.0   \n",
       "\n",
       "     Current Credit Balance  Monthly Debt  Credit Score  Credit Default  \n",
       "69                 174135.0        9320.0        6470.0               1  \n",
       "87                 285475.0       18147.0        7440.0               1  \n",
       "94                 119529.0       15215.0        7010.0               1  \n",
       "96                 276583.0       11553.0        7320.0               1  \n",
       "116                 95456.0       13780.0        7390.0               1  "
      ]
     },
     "execution_count": 66,
     "metadata": {},
     "output_type": "execute_result"
    }
   ],
   "source": [
    "print(train[train['Credit Score'] > 1000].shape[0])\n",
    "train[train['Credit Score'] > 1000].head()"
   ]
  },
  {
   "cell_type": "markdown",
   "metadata": {},
   "source": [
    "Обработаем выбросы в train"
   ]
  },
  {
   "cell_type": "code",
   "execution_count": 67,
   "metadata": {},
   "outputs": [],
   "source": [
    "train_2 = train[~train['Tax Liens'].isin([6, 7])].copy()\n",
    "train_2 = train_2[train_2['Maximum Open Credit'] > 0]\n",
    "train_2 = train_2[np.log1p(train_2['Maximum Open Credit']) <= 16]\n",
    "train_2 = train_2[~train_2['Number of Credit Problems'].isin([6, 7])]\n",
    "train_2 = train_2[train_2['Months since last delinquent'].fillna(0) <= 100]\n",
    "train_2 = train_2[np.log1p(train_2['Current Loan Amount']) <= 14]\n",
    "train_2 = train_2[np.log1p(train_2['Current Credit Balance']) > 0]\n",
    "train_2 = train_2[~train_2['Purpose'].isin(['renewable energy'])]\n",
    "train_2 = train_2[train_2['Monthly Debt'] <= 120000]"
   ]
  },
  {
   "cell_type": "code",
   "execution_count": 68,
   "metadata": {},
   "outputs": [
    {
     "name": "stdout",
     "output_type": "stream",
     "text": [
      "(6548, 17)\n"
     ]
    }
   ],
   "source": [
    "print(train_2.shape)"
   ]
  },
  {
   "cell_type": "code",
   "execution_count": 69,
   "metadata": {},
   "outputs": [
    {
     "data": {
      "text/html": [
       "<div>\n",
       "<style scoped>\n",
       "    .dataframe tbody tr th:only-of-type {\n",
       "        vertical-align: middle;\n",
       "    }\n",
       "\n",
       "    .dataframe tbody tr th {\n",
       "        vertical-align: top;\n",
       "    }\n",
       "\n",
       "    .dataframe thead th {\n",
       "        text-align: right;\n",
       "    }\n",
       "</style>\n",
       "<table border=\"1\" class=\"dataframe\">\n",
       "  <thead>\n",
       "    <tr style=\"text-align: right;\">\n",
       "      <th></th>\n",
       "      <th>Home Ownership</th>\n",
       "      <th>Annual Income</th>\n",
       "      <th>Years in current job</th>\n",
       "      <th>Tax Liens</th>\n",
       "      <th>Number of Open Accounts</th>\n",
       "      <th>Years of Credit History</th>\n",
       "      <th>Maximum Open Credit</th>\n",
       "      <th>Number of Credit Problems</th>\n",
       "      <th>Months since last delinquent</th>\n",
       "      <th>Bankruptcies</th>\n",
       "      <th>Purpose</th>\n",
       "      <th>Term</th>\n",
       "      <th>Current Loan Amount</th>\n",
       "      <th>Current Credit Balance</th>\n",
       "      <th>Monthly Debt</th>\n",
       "      <th>Credit Score</th>\n",
       "      <th>Credit Default</th>\n",
       "    </tr>\n",
       "  </thead>\n",
       "  <tbody>\n",
       "    <tr>\n",
       "      <th>1</th>\n",
       "      <td>Own Home</td>\n",
       "      <td>1025487.0</td>\n",
       "      <td>10+ years</td>\n",
       "      <td>0.0</td>\n",
       "      <td>15.0</td>\n",
       "      <td>15.3</td>\n",
       "      <td>1181730.0</td>\n",
       "      <td>0.0</td>\n",
       "      <td>NaN</td>\n",
       "      <td>0.0</td>\n",
       "      <td>debt consolidation</td>\n",
       "      <td>Long Term</td>\n",
       "      <td>264968.0</td>\n",
       "      <td>394972.0</td>\n",
       "      <td>18373.0</td>\n",
       "      <td>737.0</td>\n",
       "      <td>1</td>\n",
       "    </tr>\n",
       "    <tr>\n",
       "      <th>3</th>\n",
       "      <td>Own Home</td>\n",
       "      <td>805068.0</td>\n",
       "      <td>6 years</td>\n",
       "      <td>0.0</td>\n",
       "      <td>8.0</td>\n",
       "      <td>22.5</td>\n",
       "      <td>147400.0</td>\n",
       "      <td>1.0</td>\n",
       "      <td>NaN</td>\n",
       "      <td>1.0</td>\n",
       "      <td>debt consolidation</td>\n",
       "      <td>Short Term</td>\n",
       "      <td>121396.0</td>\n",
       "      <td>95855.0</td>\n",
       "      <td>11338.0</td>\n",
       "      <td>694.0</td>\n",
       "      <td>0</td>\n",
       "    </tr>\n",
       "    <tr>\n",
       "      <th>4</th>\n",
       "      <td>Rent</td>\n",
       "      <td>776264.0</td>\n",
       "      <td>8 years</td>\n",
       "      <td>0.0</td>\n",
       "      <td>13.0</td>\n",
       "      <td>13.6</td>\n",
       "      <td>385836.0</td>\n",
       "      <td>1.0</td>\n",
       "      <td>NaN</td>\n",
       "      <td>0.0</td>\n",
       "      <td>debt consolidation</td>\n",
       "      <td>Short Term</td>\n",
       "      <td>125840.0</td>\n",
       "      <td>93309.0</td>\n",
       "      <td>7180.0</td>\n",
       "      <td>719.0</td>\n",
       "      <td>0</td>\n",
       "    </tr>\n",
       "    <tr>\n",
       "      <th>5</th>\n",
       "      <td>Rent</td>\n",
       "      <td>NaN</td>\n",
       "      <td>7 years</td>\n",
       "      <td>0.0</td>\n",
       "      <td>12.0</td>\n",
       "      <td>14.6</td>\n",
       "      <td>366784.0</td>\n",
       "      <td>0.0</td>\n",
       "      <td>NaN</td>\n",
       "      <td>0.0</td>\n",
       "      <td>other</td>\n",
       "      <td>Long Term</td>\n",
       "      <td>337304.0</td>\n",
       "      <td>165680.0</td>\n",
       "      <td>18692.0</td>\n",
       "      <td>NaN</td>\n",
       "      <td>1</td>\n",
       "    </tr>\n",
       "    <tr>\n",
       "      <th>7</th>\n",
       "      <td>Rent</td>\n",
       "      <td>1040060.0</td>\n",
       "      <td>10+ years</td>\n",
       "      <td>0.0</td>\n",
       "      <td>13.0</td>\n",
       "      <td>12.0</td>\n",
       "      <td>330374.0</td>\n",
       "      <td>0.0</td>\n",
       "      <td>18.0</td>\n",
       "      <td>0.0</td>\n",
       "      <td>other</td>\n",
       "      <td>Short Term</td>\n",
       "      <td>250888.0</td>\n",
       "      <td>89015.0</td>\n",
       "      <td>19761.0</td>\n",
       "      <td>705.0</td>\n",
       "      <td>1</td>\n",
       "    </tr>\n",
       "  </tbody>\n",
       "</table>\n",
       "</div>"
      ],
      "text/plain": [
       "  Home Ownership  Annual Income Years in current job  Tax Liens  \\\n",
       "1       Own Home      1025487.0            10+ years        0.0   \n",
       "3       Own Home       805068.0              6 years        0.0   \n",
       "4           Rent       776264.0              8 years        0.0   \n",
       "5           Rent            NaN              7 years        0.0   \n",
       "7           Rent      1040060.0            10+ years        0.0   \n",
       "\n",
       "   Number of Open Accounts  Years of Credit History  Maximum Open Credit  \\\n",
       "1                     15.0                     15.3            1181730.0   \n",
       "3                      8.0                     22.5             147400.0   \n",
       "4                     13.0                     13.6             385836.0   \n",
       "5                     12.0                     14.6             366784.0   \n",
       "7                     13.0                     12.0             330374.0   \n",
       "\n",
       "   Number of Credit Problems  Months since last delinquent  Bankruptcies  \\\n",
       "1                        0.0                           NaN           0.0   \n",
       "3                        1.0                           NaN           1.0   \n",
       "4                        1.0                           NaN           0.0   \n",
       "5                        0.0                           NaN           0.0   \n",
       "7                        0.0                          18.0           0.0   \n",
       "\n",
       "              Purpose        Term  Current Loan Amount  \\\n",
       "1  debt consolidation   Long Term             264968.0   \n",
       "3  debt consolidation  Short Term             121396.0   \n",
       "4  debt consolidation  Short Term             125840.0   \n",
       "5               other   Long Term             337304.0   \n",
       "7               other  Short Term             250888.0   \n",
       "\n",
       "   Current Credit Balance  Monthly Debt  Credit Score  Credit Default  \n",
       "1                394972.0       18373.0         737.0               1  \n",
       "3                 95855.0       11338.0         694.0               0  \n",
       "4                 93309.0        7180.0         719.0               0  \n",
       "5                165680.0       18692.0           NaN               1  \n",
       "7                 89015.0       19761.0         705.0               1  "
      ]
     },
     "execution_count": 69,
     "metadata": {},
     "output_type": "execute_result"
    }
   ],
   "source": [
    "train_2.head()"
   ]
  },
  {
   "cell_type": "code",
   "execution_count": 70,
   "metadata": {},
   "outputs": [
    {
     "data": {
      "image/png": "[encoded data removed]",
      "text/plain": [
       "<Figure size 1800x1440 with 2 Axes>"
      ]
     },
     "metadata": {
      "needs_background": "light"
     },
     "output_type": "display_data"
    }
   ],
   "source": [
    "# матрица корреляции\n",
    "plt.figure(figsize = (25,20))\n",
    "\n",
    "sns.set(font_scale=1.4)\n",
    "sns.heatmap(train_2[BASE_FEATURE_NAMES].corr().round(3), annot=True, linewidths=.5, cmap='GnBu')\n",
    "\n",
    "plt.title('Correlation matrix')\n",
    "plt.show()"
   ]
  },
  {
   "cell_type": "markdown",
   "metadata": {},
   "source": [
    "**Предобработка данных**"
   ]
  },
  {
   "cell_type": "code",
   "execution_count": 71,
   "metadata": {},
   "outputs": [],
   "source": [
    "cat_features = list(train_2.select_dtypes(include=[object]).columns.values)\n",
    "num_features = list(feature for feature in train.columns if feature not in cat_features )"
   ]
  },
  {
   "cell_type": "code",
   "execution_count": 72,
   "metadata": {},
   "outputs": [],
   "source": [
    "def preproc(input_data, categorical_features=[]):\n",
    "    \n",
    "    output_data = input_data.copy()\n",
    "    output_data['Annual Income'].fillna(-1, inplace=True)\n",
    "    output_data['Years in current job'].fillna('No data', inplace=True)\n",
    "    output_data['Credit Score'].fillna(-1, inplace=True)\n",
    "    output_data['Months since last delinquent'].fillna(-1, inplace=True)\n",
    "    output_data['Bankruptcies'].fillna(-1, inplace=True)\n",
    "    \n",
    "    if len(categorical_features) > 0:\n",
    "        \n",
    "        X = pd.get_dummies(output_data, columns=cat_features, drop_first=False).copy()\n",
    "        \n",
    "        if 'Credit Default' in X.columns:\n",
    "            X.drop(['Credit Default'], axis=1, inplace=True)\n",
    "            y = output_data['Credit Default'].values.copy()\n",
    "\n",
    "            return X, y\n",
    "        \n",
    "        else:\n",
    "            return X\n",
    "    \n",
    "    else:\n",
    "        \n",
    "        X = output_data.copy()\n",
    "        \n",
    "        if 'Credit Default' in X.columns:\n",
    "            X.drop(['Credit Default'], axis=1, inplace=True)\n",
    "            y = output_data['Credit Default'].values.copy()\n",
    "\n",
    "            return X, y\n",
    "        \n",
    "        else:\n",
    "            return X"
   ]
  },
  {
   "cell_type": "code",
   "execution_count": 73,
   "metadata": {},
   "outputs": [],
   "source": [
    "X, y = preproc(train_2, cat_features)"
   ]
  },
  {
   "cell_type": "code",
   "execution_count": 74,
   "metadata": {},
   "outputs": [
    {
     "name": "stdout",
     "output_type": "stream",
     "text": [
      "<class 'pandas.core.frame.DataFrame'>\n",
      "Int64Index: 6548 entries, 1 to 7499\n",
      "Data columns (total 43 columns):\n",
      " #   Column                          Non-Null Count  Dtype  \n",
      "---  ------                          --------------  -----  \n",
      " 0   Annual Income                   6548 non-null   float64\n",
      " 1   Tax Liens                       6548 non-null   float64\n",
      " 2   Number of Open Accounts         6548 non-null   float64\n",
      " 3   Years of Credit History         6548 non-null   float64\n",
      " 4   Maximum Open Credit             6548 non-null   float64\n",
      " 5   Number of Credit Problems       6548 non-null   float64\n",
      " 6   Months since last delinquent    6548 non-null   float64\n",
      " 7   Bankruptcies                    6548 non-null   float64\n",
      " 8   Current Loan Amount             6548 non-null   float64\n",
      " 9   Current Credit Balance          6548 non-null   float64\n",
      " 10  Monthly Debt                    6548 non-null   float64\n",
      " 11  Credit Score                    6548 non-null   float64\n",
      " 12  Home Ownership_Have Mortgage    6548 non-null   uint8  \n",
      " 13  Home Ownership_Home Mortgage    6548 non-null   uint8  \n",
      " 14  Home Ownership_Own Home         6548 non-null   uint8  \n",
      " 15  Home Ownership_Rent             6548 non-null   uint8  \n",
      " 16  Years in current job_1 year     6548 non-null   uint8  \n",
      " 17  Years in current job_10+ years  6548 non-null   uint8  \n",
      " 18  Years in current job_2 years    6548 non-null   uint8  \n",
      " 19  Years in current job_3 years    6548 non-null   uint8  \n",
      " 20  Years in current job_4 years    6548 non-null   uint8  \n",
      " 21  Years in current job_5 years    6548 non-null   uint8  \n",
      " 22  Years in current job_6 years    6548 non-null   uint8  \n",
      " 23  Years in current job_7 years    6548 non-null   uint8  \n",
      " 24  Years in current job_8 years    6548 non-null   uint8  \n",
      " 25  Years in current job_9 years    6548 non-null   uint8  \n",
      " 26  Years in current job_< 1 year   6548 non-null   uint8  \n",
      " 27  Purpose_business loan           6548 non-null   uint8  \n",
      " 28  Purpose_buy a car               6548 non-null   uint8  \n",
      " 29  Purpose_buy house               6548 non-null   uint8  \n",
      " 30  Purpose_debt consolidation      6548 non-null   uint8  \n",
      " 31  Purpose_educational expenses    6548 non-null   uint8  \n",
      " 32  Purpose_home improvements       6548 non-null   uint8  \n",
      " 33  Purpose_major purchase          6548 non-null   uint8  \n",
      " 34  Purpose_medical bills           6548 non-null   uint8  \n",
      " 35  Purpose_moving                  6548 non-null   uint8  \n",
      " 36  Purpose_other                   6548 non-null   uint8  \n",
      " 37  Purpose_small business          6548 non-null   uint8  \n",
      " 38  Purpose_take a trip             6548 non-null   uint8  \n",
      " 39  Purpose_vacation                6548 non-null   uint8  \n",
      " 40  Purpose_wedding                 6548 non-null   uint8  \n",
      " 41  Term_Long Term                  6548 non-null   uint8  \n",
      " 42  Term_Short Term                 6548 non-null   uint8  \n",
      "dtypes: float64(12), uint8(31)\n",
      "memory usage: 863.3 KB\n"
     ]
    }
   ],
   "source": [
    "X.info()"
   ]
  },
  {
   "cell_type": "code",
   "execution_count": 75,
   "metadata": {},
   "outputs": [
    {
     "data": {
      "text/plain": [
       "(6548, 43)"
      ]
     },
     "execution_count": 75,
     "metadata": {},
     "output_type": "execute_result"
    }
   ],
   "source": [
    "X.shape"
   ]
  },
  {
   "cell_type": "code",
   "execution_count": 76,
   "metadata": {},
   "outputs": [
    {
     "data": {
      "text/html": [
       "<div>\n",
       "<style scoped>\n",
       "    .dataframe tbody tr th:only-of-type {\n",
       "        vertical-align: middle;\n",
       "    }\n",
       "\n",
       "    .dataframe tbody tr th {\n",
       "        vertical-align: top;\n",
       "    }\n",
       "\n",
       "    .dataframe thead th {\n",
       "        text-align: right;\n",
       "    }\n",
       "</style>\n",
       "<table border=\"1\" class=\"dataframe\">\n",
       "  <thead>\n",
       "    <tr style=\"text-align: right;\">\n",
       "      <th></th>\n",
       "      <th>Annual Income</th>\n",
       "      <th>Tax Liens</th>\n",
       "      <th>Number of Open Accounts</th>\n",
       "      <th>Years of Credit History</th>\n",
       "      <th>Maximum Open Credit</th>\n",
       "      <th>Number of Credit Problems</th>\n",
       "      <th>Months since last delinquent</th>\n",
       "      <th>Bankruptcies</th>\n",
       "      <th>Current Loan Amount</th>\n",
       "      <th>Current Credit Balance</th>\n",
       "      <th>...</th>\n",
       "      <th>Purpose_major purchase</th>\n",
       "      <th>Purpose_medical bills</th>\n",
       "      <th>Purpose_moving</th>\n",
       "      <th>Purpose_other</th>\n",
       "      <th>Purpose_small business</th>\n",
       "      <th>Purpose_take a trip</th>\n",
       "      <th>Purpose_vacation</th>\n",
       "      <th>Purpose_wedding</th>\n",
       "      <th>Term_Long Term</th>\n",
       "      <th>Term_Short Term</th>\n",
       "    </tr>\n",
       "  </thead>\n",
       "  <tbody>\n",
       "    <tr>\n",
       "      <th>1</th>\n",
       "      <td>1025487.0</td>\n",
       "      <td>0.0</td>\n",
       "      <td>15.0</td>\n",
       "      <td>15.3</td>\n",
       "      <td>1181730.0</td>\n",
       "      <td>0.0</td>\n",
       "      <td>-1.0</td>\n",
       "      <td>0.0</td>\n",
       "      <td>264968.0</td>\n",
       "      <td>394972.0</td>\n",
       "      <td>...</td>\n",
       "      <td>0</td>\n",
       "      <td>0</td>\n",
       "      <td>0</td>\n",
       "      <td>0</td>\n",
       "      <td>0</td>\n",
       "      <td>0</td>\n",
       "      <td>0</td>\n",
       "      <td>0</td>\n",
       "      <td>1</td>\n",
       "      <td>0</td>\n",
       "    </tr>\n",
       "    <tr>\n",
       "      <th>3</th>\n",
       "      <td>805068.0</td>\n",
       "      <td>0.0</td>\n",
       "      <td>8.0</td>\n",
       "      <td>22.5</td>\n",
       "      <td>147400.0</td>\n",
       "      <td>1.0</td>\n",
       "      <td>-1.0</td>\n",
       "      <td>1.0</td>\n",
       "      <td>121396.0</td>\n",
       "      <td>95855.0</td>\n",
       "      <td>...</td>\n",
       "      <td>0</td>\n",
       "      <td>0</td>\n",
       "      <td>0</td>\n",
       "      <td>0</td>\n",
       "      <td>0</td>\n",
       "      <td>0</td>\n",
       "      <td>0</td>\n",
       "      <td>0</td>\n",
       "      <td>0</td>\n",
       "      <td>1</td>\n",
       "    </tr>\n",
       "    <tr>\n",
       "      <th>4</th>\n",
       "      <td>776264.0</td>\n",
       "      <td>0.0</td>\n",
       "      <td>13.0</td>\n",
       "      <td>13.6</td>\n",
       "      <td>385836.0</td>\n",
       "      <td>1.0</td>\n",
       "      <td>-1.0</td>\n",
       "      <td>0.0</td>\n",
       "      <td>125840.0</td>\n",
       "      <td>93309.0</td>\n",
       "      <td>...</td>\n",
       "      <td>0</td>\n",
       "      <td>0</td>\n",
       "      <td>0</td>\n",
       "      <td>0</td>\n",
       "      <td>0</td>\n",
       "      <td>0</td>\n",
       "      <td>0</td>\n",
       "      <td>0</td>\n",
       "      <td>0</td>\n",
       "      <td>1</td>\n",
       "    </tr>\n",
       "    <tr>\n",
       "      <th>5</th>\n",
       "      <td>-1.0</td>\n",
       "      <td>0.0</td>\n",
       "      <td>12.0</td>\n",
       "      <td>14.6</td>\n",
       "      <td>366784.0</td>\n",
       "      <td>0.0</td>\n",
       "      <td>-1.0</td>\n",
       "      <td>0.0</td>\n",
       "      <td>337304.0</td>\n",
       "      <td>165680.0</td>\n",
       "      <td>...</td>\n",
       "      <td>0</td>\n",
       "      <td>0</td>\n",
       "      <td>0</td>\n",
       "      <td>1</td>\n",
       "      <td>0</td>\n",
       "      <td>0</td>\n",
       "      <td>0</td>\n",
       "      <td>0</td>\n",
       "      <td>1</td>\n",
       "      <td>0</td>\n",
       "    </tr>\n",
       "    <tr>\n",
       "      <th>7</th>\n",
       "      <td>1040060.0</td>\n",
       "      <td>0.0</td>\n",
       "      <td>13.0</td>\n",
       "      <td>12.0</td>\n",
       "      <td>330374.0</td>\n",
       "      <td>0.0</td>\n",
       "      <td>18.0</td>\n",
       "      <td>0.0</td>\n",
       "      <td>250888.0</td>\n",
       "      <td>89015.0</td>\n",
       "      <td>...</td>\n",
       "      <td>0</td>\n",
       "      <td>0</td>\n",
       "      <td>0</td>\n",
       "      <td>1</td>\n",
       "      <td>0</td>\n",
       "      <td>0</td>\n",
       "      <td>0</td>\n",
       "      <td>0</td>\n",
       "      <td>0</td>\n",
       "      <td>1</td>\n",
       "    </tr>\n",
       "  </tbody>\n",
       "</table>\n",
       "<p>5 rows × 43 columns</p>\n",
       "</div>"
      ],
      "text/plain": [
       "   Annual Income  Tax Liens  Number of Open Accounts  Years of Credit History  \\\n",
       "1      1025487.0        0.0                     15.0                     15.3   \n",
       "3       805068.0        0.0                      8.0                     22.5   \n",
       "4       776264.0        0.0                     13.0                     13.6   \n",
       "5           -1.0        0.0                     12.0                     14.6   \n",
       "7      1040060.0        0.0                     13.0                     12.0   \n",
       "\n",
       "   Maximum Open Credit  Number of Credit Problems  \\\n",
       "1            1181730.0                        0.0   \n",
       "3             147400.0                        1.0   \n",
       "4             385836.0                        1.0   \n",
       "5             366784.0                        0.0   \n",
       "7             330374.0                        0.0   \n",
       "\n",
       "   Months since last delinquent  Bankruptcies  Current Loan Amount  \\\n",
       "1                          -1.0           0.0             264968.0   \n",
       "3                          -1.0           1.0             121396.0   \n",
       "4                          -1.0           0.0             125840.0   \n",
       "5                          -1.0           0.0             337304.0   \n",
       "7                          18.0           0.0             250888.0   \n",
       "\n",
       "   Current Credit Balance  ...  Purpose_major purchase  Purpose_medical bills  \\\n",
       "1                394972.0  ...                       0                      0   \n",
       "3                 95855.0  ...                       0                      0   \n",
       "4                 93309.0  ...                       0                      0   \n",
       "5                165680.0  ...                       0                      0   \n",
       "7                 89015.0  ...                       0                      0   \n",
       "\n",
       "   Purpose_moving  Purpose_other  Purpose_small business  Purpose_take a trip  \\\n",
       "1               0              0                       0                    0   \n",
       "3               0              0                       0                    0   \n",
       "4               0              0                       0                    0   \n",
       "5               0              1                       0                    0   \n",
       "7               0              1                       0                    0   \n",
       "\n",
       "   Purpose_vacation  Purpose_wedding  Term_Long Term  Term_Short Term  \n",
       "1                 0                0               1                0  \n",
       "3                 0                0               0                1  \n",
       "4                 0                0               0                1  \n",
       "5                 0                0               1                0  \n",
       "7                 0                0               0                1  \n",
       "\n",
       "[5 rows x 43 columns]"
      ]
     },
     "execution_count": 76,
     "metadata": {},
     "output_type": "execute_result"
    }
   ],
   "source": [
    "X.head()"
   ]
  },
  {
   "cell_type": "markdown",
   "metadata": {},
   "source": [
    "**Отбор признаков**"
   ]
  },
  {
   "cell_type": "code",
   "execution_count": 77,
   "metadata": {},
   "outputs": [],
   "source": [
    "from sklearn.preprocessing import StandardScaler, MinMaxScaler\n",
    "from sklearn.model_selection import train_test_split, ShuffleSplit, cross_val_score, learning_curve\n",
    "from sklearn.model_selection import KFold, GridSearchCV, RandomizedSearchCV\n",
    "from sklearn.metrics import classification_report, f1_score, precision_score, recall_score\n",
    "\n",
    "from sklearn.linear_model import LogisticRegression\n",
    "from sklearn.neighbors import KNeighborsClassifier\n",
    "import xgboost as xgb, lightgbm as lgbm, catboost as catb\n",
    "\n",
    "from sklearn.model_selection import train_test_split, cross_val_score, StratifiedKFold, RandomizedSearchCV\n",
    "from sklearn.feature_selection import RFECV\n",
    "from sklearn.metrics import roc_auc_score, log_loss, f1_score, classification_report\n",
    "from lightgbm import LGBMClassifier\n"
   ]
  },
  {
   "cell_type": "code",
   "execution_count": 78,
   "metadata": {},
   "outputs": [],
   "source": [
    "X_train, X_valid, y_train, y_valid = train_test_split(X, y, test_size=0.3, random_state=42, shuffle=True, stratify=y)"
   ]
  },
  {
   "cell_type": "code",
   "execution_count": 79,
   "metadata": {},
   "outputs": [],
   "source": [
    "skf = StratifiedKFold(n_splits=3, shuffle=True, random_state=42)"
   ]
  },
  {
   "cell_type": "code",
   "execution_count": 80,
   "metadata": {},
   "outputs": [],
   "source": [
    "clf = LGBMClassifier(random_state=42)\n",
    "\n",
    "rfecv = RFECV(clf, cv=skf, scoring='neg_log_loss', n_jobs=2)\n",
    "\n",
    "rfecv.fit(X_train.values, y_train)\n",
    "\n",
    "features = rfecv.support_"
   ]
  },
  {
   "cell_type": "code",
   "execution_count": 81,
   "metadata": {},
   "outputs": [
    {
     "name": "stdout",
     "output_type": "stream",
     "text": [
      "Из 43 отобрано 11 признаков\n",
      "Index(['Annual Income', 'Number of Open Accounts', 'Years of Credit History',\n",
      "       'Maximum Open Credit', 'Number of Credit Problems',\n",
      "       'Months since last delinquent', 'Current Loan Amount',\n",
      "       'Current Credit Balance', 'Monthly Debt', 'Credit Score',\n",
      "       'Term_Long Term'],\n",
      "      dtype='object')\n"
     ]
    }
   ],
   "source": [
    "print(f'Из {X.shape[1]} отобрано {np.sum(features)} признаков')\n",
    "print(X_train.loc[:, features].columns)"
   ]
  },
  {
   "cell_type": "markdown",
   "metadata": {},
   "source": [
    "### Построение и оценка базовых моделей"
   ]
  },
  {
   "cell_type": "code",
   "execution_count": 82,
   "metadata": {},
   "outputs": [],
   "source": [
    "def get_classification_report(y_train_true, y_train_pred, y_valid_true, y_valid_pred):\n",
    "    print('TRAIN\\n\\n' + classification_report(y_train_true, y_train_pred))\n",
    "    print('TEST\\n\\n' + classification_report(y_valid_true, y_valid_pred))\n",
    "    print('CONFUSION MATRIX\\n')\n",
    "    print(pd.crosstab(y_valid_true, y_valid_pred))"
   ]
  },
  {
   "cell_type": "markdown",
   "metadata": {},
   "source": [
    "**Логистическая регрессия**"
   ]
  },
  {
   "cell_type": "code",
   "execution_count": 83,
   "metadata": {},
   "outputs": [
    {
     "name": "stdout",
     "output_type": "stream",
     "text": [
      "TRAIN\n",
      "\n",
      "              precision    recall  f1-score   support\n",
      "\n",
      "           0       0.73      0.97      0.83      3112\n",
      "           1       0.78      0.24      0.37      1471\n",
      "\n",
      "    accuracy                           0.73      4583\n",
      "   macro avg       0.75      0.60      0.60      4583\n",
      "weighted avg       0.74      0.73      0.68      4583\n",
      "\n",
      "TEST\n",
      "\n",
      "              precision    recall  f1-score   support\n",
      "\n",
      "           0       0.73      0.97      0.83      1335\n",
      "           1       0.79      0.23      0.35       630\n",
      "\n",
      "    accuracy                           0.73      1965\n",
      "   macro avg       0.76      0.60      0.59      1965\n",
      "weighted avg       0.75      0.73      0.68      1965\n",
      "\n",
      "CONFUSION MATRIX\n",
      "\n",
      "col_0     0    1\n",
      "row_0           \n",
      "0      1298   37\n",
      "1       488  142\n"
     ]
    }
   ],
   "source": [
    "model_lr = LogisticRegression()\n",
    "model_lr.fit(X_train, y_train)\n",
    "\n",
    "y_train_pred = model_lr.predict(X_train)\n",
    "y_valid_pred = model_lr.predict(X_valid)\n",
    "\n",
    "get_classification_report(y_train, y_train_pred, y_valid, y_valid_pred)"
   ]
  },
  {
   "cell_type": "markdown",
   "metadata": {},
   "source": [
    "**k ближайших соседей**"
   ]
  },
  {
   "cell_type": "code",
   "execution_count": 84,
   "metadata": {},
   "outputs": [
    {
     "name": "stdout",
     "output_type": "stream",
     "text": [
      "TRAIN\n",
      "\n",
      "              precision    recall  f1-score   support\n",
      "\n",
      "           0       0.76      0.90      0.83      3112\n",
      "           1       0.66      0.41      0.51      1471\n",
      "\n",
      "    accuracy                           0.74      4583\n",
      "   macro avg       0.71      0.66      0.67      4583\n",
      "weighted avg       0.73      0.74      0.72      4583\n",
      "\n",
      "TEST\n",
      "\n",
      "              precision    recall  f1-score   support\n",
      "\n",
      "           0       0.69      0.81      0.75      1335\n",
      "           1       0.37      0.24      0.29       630\n",
      "\n",
      "    accuracy                           0.63      1965\n",
      "   macro avg       0.53      0.52      0.52      1965\n",
      "weighted avg       0.59      0.63      0.60      1965\n",
      "\n",
      "CONFUSION MATRIX\n",
      "\n",
      "col_0     0    1\n",
      "row_0           \n",
      "0      1084  251\n",
      "1       481  149\n"
     ]
    }
   ],
   "source": [
    "model_knn = KNeighborsClassifier()\n",
    "model_knn.fit(X_train, y_train)\n",
    "\n",
    "y_train_pred = model_knn.predict(X_train)\n",
    "y_valid_pred = model_knn.predict(X_valid)\n",
    "\n",
    "get_classification_report(y_train, y_train_pred, y_valid, y_valid_pred)"
   ]
  },
  {
   "cell_type": "markdown",
   "metadata": {},
   "source": [
    "**Бустинговые алгоритмы**"
   ]
  },
  {
   "cell_type": "markdown",
   "metadata": {},
   "source": [
    "*LightGBM*"
   ]
  },
  {
   "cell_type": "code",
   "execution_count": 86,
   "metadata": {},
   "outputs": [
    {
     "name": "stdout",
     "output_type": "stream",
     "text": [
      "TRAIN\n",
      "\n",
      "              precision    recall  f1-score   support\n",
      "\n",
      "           0       0.88      0.99      0.93      3112\n",
      "           1       0.98      0.71      0.82      1471\n",
      "\n",
      "    accuracy                           0.90      4583\n",
      "   macro avg       0.93      0.85      0.88      4583\n",
      "weighted avg       0.91      0.90      0.90      4583\n",
      "\n",
      "TEST\n",
      "\n",
      "              precision    recall  f1-score   support\n",
      "\n",
      "           0       0.75      0.92      0.83      1335\n",
      "           1       0.69      0.36      0.47       630\n",
      "\n",
      "    accuracy                           0.74      1965\n",
      "   macro avg       0.72      0.64      0.65      1965\n",
      "weighted avg       0.73      0.74      0.72      1965\n",
      "\n",
      "CONFUSION MATRIX\n",
      "\n",
      "col_0     0    1\n",
      "row_0           \n",
      "0      1234  101\n",
      "1       403  227\n"
     ]
    }
   ],
   "source": [
    "model_lgbm = lgbm.LGBMClassifier(random_state=21)\n",
    "model_lgbm.fit(X_train, y_train)\n",
    "\n",
    "y_train_pred = model_lgbm.predict(X_train)\n",
    "y_valid_pred = model_lgbm.predict(X_valid)\n",
    "\n",
    "get_classification_report(y_train, y_train_pred, y_valid, y_valid_pred)"
   ]
  },
  {
   "cell_type": "markdown",
   "metadata": {},
   "source": [
    "*CatBoost*"
   ]
  },
  {
   "cell_type": "markdown",
   "metadata": {},
   "source": [
    "А вот здесь все \"виснет\". Причину обыскалась..."
   ]
  },
  {
   "cell_type": "code",
   "execution_count": 87,
   "metadata": {},
   "outputs": [],
   "source": [
    "#model_catb = catb.CatBoostClassifier(silent=True, random_state=21)\n",
    "#model_catb.fit(X_train, y_train)\n",
    "\n",
    "#y_train_pred = model_catb.predict(X_train)\n",
    "#y_valid_pred = model_catb.predict(X_valid)\n",
    "\n",
    "#get_classification_report(y_train, y_train_pred, y_valid, y_valid_pred)"
   ]
  },
  {
   "cell_type": "markdown",
   "metadata": {},
   "source": [
    "### Выбор лучшей модели и подбор гиперпараметров"
   ]
  },
  {
   "cell_type": "code",
   "execution_count": 88,
   "metadata": {},
   "outputs": [],
   "source": [
    "model_LGBM = LGBMClassifier(n_estimators=100, max_depth=3, random_state=42)"
   ]
  },
  {
   "cell_type": "markdown",
   "metadata": {},
   "source": [
    "**Подбор гиперпараметров**"
   ]
  },
  {
   "cell_type": "code",
   "execution_count": 90,
   "metadata": {},
   "outputs": [],
   "source": [
    "params = {'n_estimators': np.arange(100, 221, 10),\n",
    "    'max_depth': np.arange(2, 7, 1)}\n",
    "\n",
    "cv=KFold(n_splits=3, random_state=21, shuffle=True)"
   ]
  },
  {
   "cell_type": "code",
   "execution_count": 91,
   "metadata": {},
   "outputs": [
    {
     "name": "stdout",
     "output_type": "stream",
     "text": [
      "Wall time: 5.89 s\n"
     ]
    },
    {
     "data": {
      "text/plain": [
       "RandomizedSearchCV(cv=KFold(n_splits=3, random_state=21, shuffle=True),\n",
       "                   estimator=LGBMClassifier(max_depth=3, random_state=42),\n",
       "                   n_jobs=-1,\n",
       "                   param_distributions={'max_depth': array([2, 3, 4, 5, 6]),\n",
       "                                        'n_estimators': array([100, 110, 120, 130, 140, 150, 160, 170, 180, 190, 200, 210, 220])},\n",
       "                   scoring='f1')"
      ]
     },
     "execution_count": 91,
     "metadata": {},
     "output_type": "execute_result"
    }
   ],
   "source": [
    "%%time\n",
    "\n",
    "rs = RandomizedSearchCV(model_LGBM, params, scoring='f1', cv=cv, n_jobs=-1)\n",
    "rs.fit(X, y)"
   ]
  },
  {
   "cell_type": "code",
   "execution_count": 92,
   "metadata": {},
   "outputs": [
    {
     "data": {
      "text/plain": [
       "{'n_estimators': 190, 'max_depth': 6}"
      ]
     },
     "execution_count": 92,
     "metadata": {},
     "output_type": "execute_result"
    }
   ],
   "source": [
    "rs.best_params_"
   ]
  },
  {
   "cell_type": "code",
   "execution_count": 93,
   "metadata": {},
   "outputs": [
    {
     "data": {
      "text/plain": [
       "0.47135093047677046"
      ]
     },
     "execution_count": 93,
     "metadata": {},
     "output_type": "execute_result"
    }
   ],
   "source": [
    "rs.best_score_"
   ]
  },
  {
   "cell_type": "markdown",
   "metadata": {},
   "source": [
    "Полагаю, что этого недостаточно(((("
   ]
  },
  {
   "cell_type": "markdown",
   "metadata": {},
   "source": [
    "**Предсказание на тестовых данных**\n"
   ]
  },
  {
   "cell_type": "code",
   "execution_count": 94,
   "metadata": {},
   "outputs": [],
   "source": [
    "from sklearn.base import clone"
   ]
  },
  {
   "cell_type": "code",
   "execution_count": 95,
   "metadata": {},
   "outputs": [
    {
     "data": {
      "text/plain": [
       "LGBMClassifier(max_depth=6, n_estimators=190, random_state=42)"
      ]
     },
     "execution_count": 95,
     "metadata": {},
     "output_type": "execute_result"
    }
   ],
   "source": [
    "model = clone(rs.best_estimator_)\n",
    "\n",
    "model.fit(X.loc[:, features], y)"
   ]
  },
  {
   "cell_type": "code",
   "execution_count": 96,
   "metadata": {},
   "outputs": [],
   "source": [
    "X_test = preproc(test, cat_features)"
   ]
  },
  {
   "cell_type": "code",
   "execution_count": 104,
   "metadata": {},
   "outputs": [
    {
     "name": "stdout",
     "output_type": "stream",
     "text": [
      "<class 'pandas.core.frame.DataFrame'>\n",
      "RangeIndex: 2500 entries, 0 to 2499\n",
      "Data columns (total 43 columns):\n",
      " #   Column                          Non-Null Count  Dtype  \n",
      "---  ------                          --------------  -----  \n",
      " 0   Annual Income                   2500 non-null   float64\n",
      " 1   Tax Liens                       2500 non-null   float64\n",
      " 2   Number of Open Accounts         2500 non-null   float64\n",
      " 3   Years of Credit History         2500 non-null   float64\n",
      " 4   Maximum Open Credit             2500 non-null   float64\n",
      " 5   Number of Credit Problems       2500 non-null   float64\n",
      " 6   Months since last delinquent    2500 non-null   float64\n",
      " 7   Bankruptcies                    2500 non-null   float64\n",
      " 8   Current Loan Amount             2500 non-null   float64\n",
      " 9   Current Credit Balance          2500 non-null   float64\n",
      " 10  Monthly Debt                    2500 non-null   float64\n",
      " 11  Credit Score                    2500 non-null   float64\n",
      " 12  Home Ownership_Have Mortgage    2500 non-null   uint8  \n",
      " 13  Home Ownership_Home Mortgage    2500 non-null   uint8  \n",
      " 14  Home Ownership_Own Home         2500 non-null   uint8  \n",
      " 15  Home Ownership_Rent             2500 non-null   uint8  \n",
      " 16  Years in current job_1 year     2500 non-null   uint8  \n",
      " 17  Years in current job_10+ years  2500 non-null   uint8  \n",
      " 18  Years in current job_2 years    2500 non-null   uint8  \n",
      " 19  Years in current job_3 years    2500 non-null   uint8  \n",
      " 20  Years in current job_4 years    2500 non-null   uint8  \n",
      " 21  Years in current job_5 years    2500 non-null   uint8  \n",
      " 22  Years in current job_6 years    2500 non-null   uint8  \n",
      " 23  Years in current job_7 years    2500 non-null   uint8  \n",
      " 24  Years in current job_8 years    2500 non-null   uint8  \n",
      " 25  Years in current job_9 years    2500 non-null   uint8  \n",
      " 26  Years in current job_< 1 year   2500 non-null   uint8  \n",
      " 27  Purpose_business loan           2500 non-null   uint8  \n",
      " 28  Purpose_buy a car               2500 non-null   uint8  \n",
      " 29  Purpose_buy house               2500 non-null   uint8  \n",
      " 30  Purpose_debt consolidation      2500 non-null   uint8  \n",
      " 31  Purpose_educational expenses    2500 non-null   uint8  \n",
      " 32  Purpose_home improvements       2500 non-null   uint8  \n",
      " 33  Purpose_major purchase          2500 non-null   uint8  \n",
      " 34  Purpose_medical bills           2500 non-null   uint8  \n",
      " 35  Purpose_moving                  2500 non-null   uint8  \n",
      " 36  Purpose_other                   2500 non-null   uint8  \n",
      " 37  Purpose_small business          2500 non-null   uint8  \n",
      " 38  Purpose_take a trip             2500 non-null   uint8  \n",
      " 39  Purpose_vacation                2500 non-null   uint8  \n",
      " 40  Purpose_wedding                 2500 non-null   uint8  \n",
      " 41  Term_Long Term                  2500 non-null   uint8  \n",
      " 42  Term_Short Term                 2500 non-null   uint8  \n",
      "dtypes: float64(12), uint8(31)\n",
      "memory usage: 310.2 KB\n"
     ]
    }
   ],
   "source": [
    "X_test.info()"
   ]
  },
  {
   "cell_type": "code",
   "execution_count": 103,
   "metadata": {},
   "outputs": [
    {
     "data": {
      "text/plain": [
       "Annual Income                     0\n",
       "Tax Liens                         0\n",
       "Number of Open Accounts           0\n",
       "Years of Credit History           0\n",
       "Maximum Open Credit               0\n",
       "Number of Credit Problems         0\n",
       "Months since last delinquent      0\n",
       "Bankruptcies                      0\n",
       "Current Loan Amount               0\n",
       "Current Credit Balance            0\n",
       "Monthly Debt                      0\n",
       "Credit Score                      0\n",
       "Home Ownership_Have Mortgage      0\n",
       "Home Ownership_Home Mortgage      0\n",
       "Home Ownership_Own Home           0\n",
       "Home Ownership_Rent               0\n",
       "Years in current job_1 year       0\n",
       "Years in current job_10+ years    0\n",
       "Years in current job_2 years      0\n",
       "Years in current job_3 years      0\n",
       "Years in current job_4 years      0\n",
       "Years in current job_5 years      0\n",
       "Years in current job_6 years      0\n",
       "Years in current job_7 years      0\n",
       "Years in current job_8 years      0\n",
       "Years in current job_9 years      0\n",
       "Years in current job_< 1 year     0\n",
       "Purpose_business loan             0\n",
       "Purpose_buy a car                 0\n",
       "Purpose_buy house                 0\n",
       "Purpose_debt consolidation        0\n",
       "Purpose_educational expenses      0\n",
       "Purpose_home improvements         0\n",
       "Purpose_major purchase            0\n",
       "Purpose_medical bills             0\n",
       "Purpose_moving                    0\n",
       "Purpose_other                     0\n",
       "Purpose_small business            0\n",
       "Purpose_take a trip               0\n",
       "Purpose_vacation                  0\n",
       "Purpose_wedding                   0\n",
       "Term_Long Term                    0\n",
       "Term_Short Term                   0\n",
       "dtype: int64"
      ]
     },
     "execution_count": 103,
     "metadata": {},
     "output_type": "execute_result"
    }
   ],
   "source": [
    "X_test.isna().sum()"
   ]
  },
  {
   "cell_type": "code",
   "execution_count": 107,
   "metadata": {},
   "outputs": [],
   "source": [
    "y_test_proba = model.predict_proba(X_test.loc[:, features].values)\n",
    "y_test_hat = np.array(y_test_proba[:, 1] >= 0.5).astype(int)\n"
   ]
  },
  {
   "cell_type": "code",
   "execution_count": 108,
   "metadata": {},
   "outputs": [],
   "source": [
    "predictions = pd.DataFrame()\n",
    "predictions['Credit Default'] = y_test_hat"
   ]
  },
  {
   "cell_type": "code",
   "execution_count": 109,
   "metadata": {},
   "outputs": [
    {
     "data": {
      "text/html": [
       "<div>\n",
       "<style scoped>\n",
       "    .dataframe tbody tr th:only-of-type {\n",
       "        vertical-align: middle;\n",
       "    }\n",
       "\n",
       "    .dataframe tbody tr th {\n",
       "        vertical-align: top;\n",
       "    }\n",
       "\n",
       "    .dataframe thead th {\n",
       "        text-align: right;\n",
       "    }\n",
       "</style>\n",
       "<table border=\"1\" class=\"dataframe\">\n",
       "  <thead>\n",
       "    <tr style=\"text-align: right;\">\n",
       "      <th></th>\n",
       "      <th>Credit Default</th>\n",
       "    </tr>\n",
       "  </thead>\n",
       "  <tbody>\n",
       "    <tr>\n",
       "      <th>0</th>\n",
       "      <td>0</td>\n",
       "    </tr>\n",
       "    <tr>\n",
       "      <th>1</th>\n",
       "      <td>1</td>\n",
       "    </tr>\n",
       "    <tr>\n",
       "      <th>2</th>\n",
       "      <td>1</td>\n",
       "    </tr>\n",
       "    <tr>\n",
       "      <th>3</th>\n",
       "      <td>0</td>\n",
       "    </tr>\n",
       "    <tr>\n",
       "      <th>4</th>\n",
       "      <td>0</td>\n",
       "    </tr>\n",
       "  </tbody>\n",
       "</table>\n",
       "</div>"
      ],
      "text/plain": [
       "   Credit Default\n",
       "0               0\n",
       "1               1\n",
       "2               1\n",
       "3               0\n",
       "4               0"
      ]
     },
     "execution_count": 109,
     "metadata": {},
     "output_type": "execute_result"
    }
   ],
   "source": [
    "predictions.head()"
   ]
  },
  {
   "cell_type": "code",
   "execution_count": 110,
   "metadata": {},
   "outputs": [],
   "source": [
    "predictions.to_csv('NGladkova_predictions.csv', index=True, encoding='utf-8')"
   ]
  },
  {
   "cell_type": "code",
   "execution_count": null,
   "metadata": {},
   "outputs": [],
   "source": []
  }
 ],
 "metadata": {
  "kernelspec": {
   "display_name": "Python 3",
   "language": "python",
   "name": "python3"
  },
  "language_info": {
   "codemirror_mode": {
    "name": "ipython",
    "version": 3
   },
   "file_extension": ".py",
   "mimetype": "text/x-python",
   "name": "python",
   "nbconvert_exporter": "python",
   "pygments_lexer": "ipython3",
   "version": "3.8.5"
  }
 },
 "nbformat": 4,
 "nbformat_minor": 4
}
